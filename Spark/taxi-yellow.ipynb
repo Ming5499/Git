{
 "cells": [
  {
   "cell_type": "code",
   "execution_count": 4,
   "metadata": {},
   "outputs": [],
   "source": [
    "import pyspark\n",
    "from pyspark.sql import SparkSession\n",
    "spark = SparkSession.builder.master(\"local\").\\\n",
    "appName(\"test-spark\").\\\n",
    "config(\"spark.driver.bindAddress\",\"localhost\").\\\n",
    "config(\"spark.ui.port\",\"4040\").\\\n",
    "getOrCreate()"
   ]
  },
  {
   "cell_type": "code",
   "execution_count": 11,
   "metadata": {},
   "outputs": [
    {
     "name": "stdout",
     "output_type": "stream",
     "text": [
      "+---+-----------------+--------------------+--------------------+-------------------+-------------------+-------------------+-------------------+------------+------------+----------+---------+-------------------+-----+----+---------+--------------------+-----------+----+----------+-------------------+-----------------+------------------+----------------+--------------+\n",
      "|_c0|hvfhs_license_num|dispatching_base_num|originating_base_num|   request_datetime|  on_scene_datetime|    pickup_datetime|   dropoff_datetime|PULocationID|DOLocationID|trip_miles|trip_time|base_passenger_fare|tolls| bcf|sales_tax|congestion_surcharge|airport_fee|tips|driver_pay|shared_request_flag|shared_match_flag|access_a_ride_flag|wav_request_flag|wav_match_flag|\n",
      "+---+-----------------+--------------------+--------------------+-------------------+-------------------+-------------------+-------------------+------------+------------+----------+---------+-------------------+-----+----+---------+--------------------+-----------+----+----------+-------------------+-----------------+------------------+----------------+--------------+\n",
      "|  0|           HV0003|              B02682|              B02682|2021-01-01 00:28:09|2021-01-01 00:31:42|2021-01-01 00:33:44|2021-01-01 00:49:07|         230|         166|      5.26|      923|              22.28|  0.0|0.67|     1.98|                2.75|       null| 0.0|     14.99|                  N|                N|                  |               N|             N|\n",
      "|  1|           HV0003|              B02682|              B02682|2021-01-01 00:45:56|2021-01-01 00:55:19|2021-01-01 00:55:19|2021-01-01 01:18:21|         152|         167|      3.65|     1382|              18.36|  0.0|0.55|     1.63|                 0.0|       null| 0.0|     17.06|                  N|                N|                  |               N|             N|\n",
      "|  2|           HV0003|              B02764|              B02764|2021-01-01 00:21:15|2021-01-01 00:22:41|2021-01-01 00:23:56|2021-01-01 00:38:05|         233|         142|      3.51|      849|              14.05|  0.0|0.48|     1.25|                2.75|       null|0.94|     12.98|                  N|                N|                  |               N|             N|\n",
      "|  3|           HV0003|              B02764|              B02764|2021-01-01 00:39:12|2021-01-01 00:42:37|2021-01-01 00:42:51|2021-01-01 00:45:50|         142|         143|      0.74|      179|               7.91|  0.0|0.24|      0.7|                2.75|       null| 0.0|      7.41|                  N|                N|                  |               N|             N|\n",
      "|  4|           HV0003|              B02764|              B02764|2021-01-01 00:46:11|2021-01-01 00:47:17|2021-01-01 00:48:14|2021-01-01 01:08:42|         143|          78|       9.2|     1228|              27.11|  0.0|0.81|     2.41|                2.75|       null| 0.0|     22.44|                  N|                N|                  |               N|             N|\n",
      "|  5|           HV0005|              B02510|                null|2021-01-01 00:04:00|               null|2021-01-01 00:06:59|2021-01-01 00:43:01|          88|          42|     9.725|     2162|              28.11|  0.0|0.84|     2.49|                2.75|       null| 0.0|      28.9|                  N|                N|                 N|               N|             N|\n",
      "|  6|           HV0005|              B02510|                null|2021-01-01 00:40:06|               null|2021-01-01 00:50:00|2021-01-01 01:04:57|          42|         151|     2.469|      897|              25.03|  0.0|0.75|     2.22|                 0.0|       null| 0.0|     15.01|                  N|                N|                 N|               N|             N|\n",
      "|  7|           HV0003|              B02764|              B02764|2021-01-01 00:10:36|2021-01-01 00:12:28|2021-01-01 00:14:30|2021-01-01 00:50:27|          71|         226|     13.53|     2157|              29.67|  0.0|1.04|     3.08|                 0.0|       null| 0.0|      34.2|                  N|                N|                  |               N|             N|\n",
      "|  8|           HV0003|              B02875|              B02875|2021-01-01 00:21:17|2021-01-01 00:22:25|2021-01-01 00:22:54|2021-01-01 00:30:20|         112|         255|       1.6|      446|               6.89|  0.0|0.21|     0.61|                 0.0|       null| 0.0|      6.26|                  N|                N|                  |               N|             N|\n",
      "|  9|           HV0003|              B02875|              B02875|2021-01-01 00:36:57|2021-01-01 00:38:09|2021-01-01 00:40:12|2021-01-01 00:53:31|         255|         232|       3.2|      800|              11.51|  0.0|0.53|     1.03|                2.75|       null|2.82|     10.99|                  N|                N|                  |               N|             N|\n",
      "| 10|           HV0003|              B02875|              B02875|2021-01-01 00:53:31|2021-01-01 00:56:21|2021-01-01 00:56:45|2021-01-01 01:17:42|         232|         198|      5.74|     1257|              17.18|  0.0|0.52|     1.52|                2.75|       null| 0.0|     17.61|                  N|                N|                  |               N|             N|\n",
      "| 11|           HV0003|              B02835|              B02835|2021-01-01 00:22:58|2021-01-01 00:27:01|2021-01-01 00:29:04|2021-01-01 00:36:27|         113|          48|       1.8|      443|               8.18|  0.0|0.25|     0.73|                2.75|       null| 0.0|      6.12|                  N|                N|                  |               N|             N|\n",
      "| 12|           HV0003|              B02835|              B02835|2021-01-01 00:46:44|2021-01-01 00:47:49|2021-01-01 00:48:56|2021-01-01 00:59:12|         239|          75|       2.9|      616|               13.1|  0.0|0.45|     1.17|                2.75|       null|0.94|      8.77|                  N|                N|                  |               N|             N|\n",
      "| 13|           HV0004|              B02800|                null|2021-01-01 00:12:50|               null|2021-01-01 00:15:24|2021-01-01 00:38:31|         181|         237|      9.66|     1387|              32.95|  0.0| 0.0|     2.34|                2.75|       null| 0.0|      21.1|                  N|                N|                 N|               N|             N|\n",
      "| 14|           HV0004|              B02800|                null|2021-01-01 00:35:32|               null|2021-01-01 00:45:00|2021-01-01 01:06:45|         236|          68|      4.38|     1305|              22.91|  0.0| 0.0|     1.63|                2.75|       null|3.43|     15.82|                  N|                N|                 N|               N|             N|\n",
      "| 15|           HV0003|              B02682|              B02682|2021-01-01 00:10:22|2021-01-01 00:11:03|2021-01-01 00:11:53|2021-01-01 00:18:06|         256|         148|      2.03|      373|               7.84|  0.0|0.42|      0.7|                2.75|       null|2.82|      6.93|                  N|                N|                  |               N|             N|\n",
      "| 16|           HV0003|              B02682|              B02682|2021-01-01 00:25:00|2021-01-01 00:26:31|2021-01-01 00:28:31|2021-01-01 00:41:40|          79|          80|      3.08|      789|               13.2|  0.0| 0.4|     1.17|                2.75|       null| 0.0|     11.54|                  N|                N|                  |               N|             N|\n",
      "| 17|           HV0003|              B02682|              B02682|2021-01-01 00:44:56|2021-01-01 00:49:55|2021-01-01 00:50:49|2021-01-01 00:55:59|          17|         217|      1.17|      310|               7.91|  0.0|0.24|      0.7|                 0.0|       null| 0.0|      6.94|                  N|                N|                  |               N|             N|\n",
      "| 18|           HV0005|              B02510|                null|2021-01-01 00:05:04|               null|2021-01-01 00:08:40|2021-01-01 00:39:39|          62|          29|    10.852|     1859|              31.18|  0.0|0.94|     2.77|                 0.0|       null| 0.0|     27.61|                  N|                N|                 N|               N|             N|\n",
      "| 19|           HV0003|              B02836|              B02836|2021-01-01 00:40:44|2021-01-01 00:53:34|2021-01-01 00:53:48|2021-01-01 01:11:40|          22|          22|      3.52|     1072|              28.67|  0.0|0.86|     2.54|                 0.0|       null| 0.0|     17.64|                  N|                N|                  |               N|             N|\n",
      "+---+-----------------+--------------------+--------------------+-------------------+-------------------+-------------------+-------------------+------------+------------+----------+---------+-------------------+-----+----+---------+--------------------+-----------+----+----------+-------------------+-----------------+------------------+----------------+--------------+\n",
      "only showing top 20 rows\n",
      "\n"
     ]
    }
   ],
   "source": [
    "from pyspark.sql import SparkSession\n",
    "from pyspark.sql.types import StructType, StructField, StringType, IntegerType, FloatType\n",
    "import pandas as pd\n",
    "df = spark.read \\\n",
    "    .option(\"header\",\"true\") \\\n",
    "    .csv(\"C:/Users/Admin/Desktop/Project-DE/Uber/fhvhv_tripdata_2021-01.csv\")\n",
    "df.show()"
   ]
  },
  {
   "cell_type": "code",
   "execution_count": 6,
   "metadata": {},
   "outputs": [
    {
     "name": "stdout",
     "output_type": "stream",
     "text": [
      "root\n",
      " |-- Unnamed: 0: integer (nullable = true)\n",
      " |-- hvfhs_license_num: string (nullable = true)\n",
      " |-- dispatching_base_num: string (nullable = true)\n",
      " |-- originating_base_num: string (nullable = true)\n",
      " |-- request_datetime: string (nullable = true)\n",
      " |-- on_scene_datetime: string (nullable = true)\n",
      " |-- pickup_datetime: string (nullable = true)\n",
      " |-- dropoff_datetime: string (nullable = true)\n",
      " |-- PULocationID: integer (nullable = true)\n",
      " |-- DOLocationID: integer (nullable = true)\n",
      " |-- trip_miles: float (nullable = true)\n",
      " |-- trip_time: integer (nullable = true)\n",
      " |-- base_passenger_fare: float (nullable = true)\n",
      " |-- tolls: float (nullable = true)\n",
      " |-- bcf: float (nullable = true)\n",
      " |-- sales_tax: float (nullable = true)\n",
      " |-- congestion_surcharge: float (nullable = true)\n",
      " |-- airport_fee: float (nullable = true)\n",
      " |-- tips: float (nullable = true)\n",
      " |-- driver_pay: float (nullable = true)\n",
      " |-- shared_request_flag: string (nullable = true)\n",
      " |-- shared_match_flag: string (nullable = true)\n",
      " |-- access_a_ride_flag: string (nullable = true)\n",
      " |-- wav_request_flag: string (nullable = true)\n",
      " |-- wav_match_flag: string (nullable = true)\n",
      "\n"
     ]
    }
   ],
   "source": [
    "# Define the Spark schema based on the provided data types\n",
    "schema = StructType([\n",
    "    StructField('Unnamed: 0', IntegerType(), True),\n",
    "    StructField('hvfhs_license_num', StringType(), True),\n",
    "    StructField('dispatching_base_num', StringType(), True),\n",
    "    StructField('originating_base_num', StringType(), True),\n",
    "    StructField('request_datetime', StringType(), True),\n",
    "    StructField('on_scene_datetime', StringType(), True),\n",
    "    StructField('pickup_datetime', StringType(), True),\n",
    "    StructField('dropoff_datetime', StringType(), True),\n",
    "    StructField('PULocationID', IntegerType(), True),\n",
    "    StructField('DOLocationID', IntegerType(), True),\n",
    "    StructField('trip_miles', FloatType(), True),\n",
    "    StructField('trip_time', IntegerType(), True),\n",
    "    StructField('base_passenger_fare', FloatType(), True),\n",
    "    StructField('tolls', FloatType(), True),\n",
    "    StructField('bcf', FloatType(), True),\n",
    "    StructField('sales_tax', FloatType(), True),\n",
    "    StructField('congestion_surcharge', FloatType(), True),\n",
    "    StructField('airport_fee', FloatType(), True),\n",
    "    StructField('tips', FloatType(), True),\n",
    "    StructField('driver_pay', FloatType(), True),\n",
    "    StructField('shared_request_flag', StringType(), True),\n",
    "    StructField('shared_match_flag', StringType(), True),\n",
    "    StructField('access_a_ride_flag', StringType(), True),\n",
    "    StructField('wav_request_flag', StringType(), True),\n",
    "    StructField('wav_match_flag', StringType(), True)\n",
    "])\n",
    "\n",
    "# Create a Spark DataFrame from the Pandas DataFrame with the specified schema\n",
    "df_spark = spark.createDataFrame(df_pandas, schema=schema)\n",
    "\n",
    "# Print the schema of the Spark DataFrame\n",
    "df_spark.printSchema()\n",
    "\n",
    "\n"
   ]
  },
  {
   "cell_type": "code",
   "execution_count": 1,
   "metadata": {},
   "outputs": [
    {
     "data": {
      "text/html": [
       "<div>\n",
       "<style scoped>\n",
       "    .dataframe tbody tr th:only-of-type {\n",
       "        vertical-align: middle;\n",
       "    }\n",
       "\n",
       "    .dataframe tbody tr th {\n",
       "        vertical-align: top;\n",
       "    }\n",
       "\n",
       "    .dataframe thead th {\n",
       "        text-align: right;\n",
       "    }\n",
       "</style>\n",
       "<table border=\"1\" class=\"dataframe\">\n",
       "  <thead>\n",
       "    <tr style=\"text-align: right;\">\n",
       "      <th></th>\n",
       "      <th>Unnamed: 0</th>\n",
       "      <th>hvfhs_license_num</th>\n",
       "      <th>dispatching_base_num</th>\n",
       "      <th>originating_base_num</th>\n",
       "      <th>request_datetime</th>\n",
       "      <th>on_scene_datetime</th>\n",
       "      <th>pickup_datetime</th>\n",
       "      <th>dropoff_datetime</th>\n",
       "      <th>PULocationID</th>\n",
       "      <th>DOLocationID</th>\n",
       "      <th>...</th>\n",
       "      <th>sales_tax</th>\n",
       "      <th>congestion_surcharge</th>\n",
       "      <th>airport_fee</th>\n",
       "      <th>tips</th>\n",
       "      <th>driver_pay</th>\n",
       "      <th>shared_request_flag</th>\n",
       "      <th>shared_match_flag</th>\n",
       "      <th>access_a_ride_flag</th>\n",
       "      <th>wav_request_flag</th>\n",
       "      <th>wav_match_flag</th>\n",
       "    </tr>\n",
       "  </thead>\n",
       "  <tbody>\n",
       "    <tr>\n",
       "      <th>0</th>\n",
       "      <td>0</td>\n",
       "      <td>HV0003</td>\n",
       "      <td>B02682</td>\n",
       "      <td>B02682</td>\n",
       "      <td>1/1/2021 0:28</td>\n",
       "      <td>1/1/2021 0:31</td>\n",
       "      <td>1/1/2021 0:33</td>\n",
       "      <td>1/1/2021 0:49</td>\n",
       "      <td>230</td>\n",
       "      <td>166</td>\n",
       "      <td>...</td>\n",
       "      <td>1.98</td>\n",
       "      <td>2.75</td>\n",
       "      <td>NaN</td>\n",
       "      <td>0.00</td>\n",
       "      <td>14.99</td>\n",
       "      <td>N</td>\n",
       "      <td>N</td>\n",
       "      <td></td>\n",
       "      <td>N</td>\n",
       "      <td>N</td>\n",
       "    </tr>\n",
       "    <tr>\n",
       "      <th>1</th>\n",
       "      <td>1</td>\n",
       "      <td>HV0003</td>\n",
       "      <td>B02682</td>\n",
       "      <td>B02682</td>\n",
       "      <td>1/1/2021 0:45</td>\n",
       "      <td>1/1/2021 0:55</td>\n",
       "      <td>1/1/2021 0:55</td>\n",
       "      <td>1/1/2021 1:18</td>\n",
       "      <td>152</td>\n",
       "      <td>167</td>\n",
       "      <td>...</td>\n",
       "      <td>1.63</td>\n",
       "      <td>0.00</td>\n",
       "      <td>NaN</td>\n",
       "      <td>0.00</td>\n",
       "      <td>17.06</td>\n",
       "      <td>N</td>\n",
       "      <td>N</td>\n",
       "      <td></td>\n",
       "      <td>N</td>\n",
       "      <td>N</td>\n",
       "    </tr>\n",
       "    <tr>\n",
       "      <th>2</th>\n",
       "      <td>2</td>\n",
       "      <td>HV0003</td>\n",
       "      <td>B02764</td>\n",
       "      <td>B02764</td>\n",
       "      <td>1/1/2021 0:21</td>\n",
       "      <td>1/1/2021 0:22</td>\n",
       "      <td>1/1/2021 0:23</td>\n",
       "      <td>1/1/2021 0:38</td>\n",
       "      <td>233</td>\n",
       "      <td>142</td>\n",
       "      <td>...</td>\n",
       "      <td>1.25</td>\n",
       "      <td>2.75</td>\n",
       "      <td>NaN</td>\n",
       "      <td>0.94</td>\n",
       "      <td>12.98</td>\n",
       "      <td>N</td>\n",
       "      <td>N</td>\n",
       "      <td></td>\n",
       "      <td>N</td>\n",
       "      <td>N</td>\n",
       "    </tr>\n",
       "    <tr>\n",
       "      <th>3</th>\n",
       "      <td>3</td>\n",
       "      <td>HV0003</td>\n",
       "      <td>B02764</td>\n",
       "      <td>B02764</td>\n",
       "      <td>1/1/2021 0:39</td>\n",
       "      <td>1/1/2021 0:42</td>\n",
       "      <td>1/1/2021 0:42</td>\n",
       "      <td>1/1/2021 0:45</td>\n",
       "      <td>142</td>\n",
       "      <td>143</td>\n",
       "      <td>...</td>\n",
       "      <td>0.70</td>\n",
       "      <td>2.75</td>\n",
       "      <td>NaN</td>\n",
       "      <td>0.00</td>\n",
       "      <td>7.41</td>\n",
       "      <td>N</td>\n",
       "      <td>N</td>\n",
       "      <td></td>\n",
       "      <td>N</td>\n",
       "      <td>N</td>\n",
       "    </tr>\n",
       "    <tr>\n",
       "      <th>4</th>\n",
       "      <td>4</td>\n",
       "      <td>HV0003</td>\n",
       "      <td>B02764</td>\n",
       "      <td>B02764</td>\n",
       "      <td>1/1/2021 0:46</td>\n",
       "      <td>1/1/2021 0:47</td>\n",
       "      <td>1/1/2021 0:48</td>\n",
       "      <td>1/1/2021 1:08</td>\n",
       "      <td>143</td>\n",
       "      <td>78</td>\n",
       "      <td>...</td>\n",
       "      <td>2.41</td>\n",
       "      <td>2.75</td>\n",
       "      <td>NaN</td>\n",
       "      <td>0.00</td>\n",
       "      <td>22.44</td>\n",
       "      <td>N</td>\n",
       "      <td>N</td>\n",
       "      <td></td>\n",
       "      <td>N</td>\n",
       "      <td>N</td>\n",
       "    </tr>\n",
       "  </tbody>\n",
       "</table>\n",
       "<p>5 rows × 25 columns</p>\n",
       "</div>"
      ],
      "text/plain": [
       "   Unnamed: 0 hvfhs_license_num dispatching_base_num originating_base_num  \\\n",
       "0           0            HV0003               B02682               B02682   \n",
       "1           1            HV0003               B02682               B02682   \n",
       "2           2            HV0003               B02764               B02764   \n",
       "3           3            HV0003               B02764               B02764   \n",
       "4           4            HV0003               B02764               B02764   \n",
       "\n",
       "  request_datetime on_scene_datetime pickup_datetime dropoff_datetime  \\\n",
       "0    1/1/2021 0:28     1/1/2021 0:31   1/1/2021 0:33    1/1/2021 0:49   \n",
       "1    1/1/2021 0:45     1/1/2021 0:55   1/1/2021 0:55    1/1/2021 1:18   \n",
       "2    1/1/2021 0:21     1/1/2021 0:22   1/1/2021 0:23    1/1/2021 0:38   \n",
       "3    1/1/2021 0:39     1/1/2021 0:42   1/1/2021 0:42    1/1/2021 0:45   \n",
       "4    1/1/2021 0:46     1/1/2021 0:47   1/1/2021 0:48    1/1/2021 1:08   \n",
       "\n",
       "   PULocationID  DOLocationID  ...  sales_tax  congestion_surcharge  \\\n",
       "0           230           166  ...       1.98                  2.75   \n",
       "1           152           167  ...       1.63                  0.00   \n",
       "2           233           142  ...       1.25                  2.75   \n",
       "3           142           143  ...       0.70                  2.75   \n",
       "4           143            78  ...       2.41                  2.75   \n",
       "\n",
       "   airport_fee  tips  driver_pay  shared_request_flag  shared_match_flag  \\\n",
       "0          NaN  0.00       14.99                    N                  N   \n",
       "1          NaN  0.00       17.06                    N                  N   \n",
       "2          NaN  0.94       12.98                    N                  N   \n",
       "3          NaN  0.00        7.41                    N                  N   \n",
       "4          NaN  0.00       22.44                    N                  N   \n",
       "\n",
       "   access_a_ride_flag  wav_request_flag  wav_match_flag  \n",
       "0                                     N               N  \n",
       "1                                     N               N  \n",
       "2                                     N               N  \n",
       "3                                     N               N  \n",
       "4                                     N               N  \n",
       "\n",
       "[5 rows x 25 columns]"
      ]
     },
     "execution_count": 1,
     "metadata": {},
     "output_type": "execute_result"
    }
   ],
   "source": [
    "import pandas as pd\n",
    "from pyspark.sql import SparkSession\n",
    "from pyspark.sql.types import StructType, StructField, StringType, IntegerType, FloatType, TimestampType\n",
    "from pyspark.sql import types\n",
    "df_pandas = pd.read_csv('C:/Users/Admin/Desktop/Project-DE/Uber/head.csv',  encoding='utf-8')\n",
    "df_pandas.head()"
   ]
  },
  {
   "cell_type": "code",
   "execution_count": 2,
   "metadata": {},
   "outputs": [
    {
     "data": {
      "text/plain": [
       "Unnamed: 0                int64\n",
       "hvfhs_license_num        object\n",
       "dispatching_base_num     object\n",
       "originating_base_num     object\n",
       "request_datetime         object\n",
       "on_scene_datetime        object\n",
       "pickup_datetime          object\n",
       "dropoff_datetime         object\n",
       "PULocationID              int64\n",
       "DOLocationID              int64\n",
       "trip_miles              float64\n",
       "trip_time                 int64\n",
       "base_passenger_fare     float64\n",
       "tolls                   float64\n",
       "bcf                     float64\n",
       "sales_tax               float64\n",
       "congestion_surcharge    float64\n",
       "airport_fee             float64\n",
       "tips                    float64\n",
       "driver_pay              float64\n",
       "shared_request_flag      object\n",
       "shared_match_flag        object\n",
       "access_a_ride_flag       object\n",
       "wav_request_flag         object\n",
       "wav_match_flag           object\n",
       "dtype: object"
      ]
     },
     "execution_count": 2,
     "metadata": {},
     "output_type": "execute_result"
    }
   ],
   "source": [
    "df_pandas.dtypes"
   ]
  },
  {
   "cell_type": "code",
   "execution_count": 12,
   "metadata": {},
   "outputs": [
    {
     "name": "stdout",
     "output_type": "stream",
     "text": [
      "+----------+-----------------+--------------------+--------------------+-------------------+-------------------+-------------------+-------------------+------------+------------+----------+---------+-------------------+-----+----+---------+--------------------+-----------+----+----------+-------------------+-----------------+------------------+----------------+--------------+\n",
      "|Unnamed: 0|hvfhs_license_num|dispatching_base_num|originating_base_num|   request_datetime|  on_scene_datetime|    pickup_datetime|   dropoff_datetime|PULocationID|DOLocationID|trip_miles|trip_time|base_passenger_fare|tolls| bcf|sales_tax|congestion_surcharge|airport_fee|tips|driver_pay|shared_request_flag|shared_match_flag|access_a_ride_flag|wav_request_flag|wav_match_flag|\n",
      "+----------+-----------------+--------------------+--------------------+-------------------+-------------------+-------------------+-------------------+------------+------------+----------+---------+-------------------+-----+----+---------+--------------------+-----------+----+----------+-------------------+-----------------+------------------+----------------+--------------+\n",
      "|         0|           HV0003|              B02682|              B02682|2021-01-01 00:28:09|2021-01-01 00:31:42|2021-01-01 00:33:44|2021-01-01 00:49:07|         230|         166|      5.26|      923|              22.28|  0.0|0.67|     1.98|                2.75|       null| 0.0|     14.99|                  N|                N|                  |               N|             N|\n",
      "|         1|           HV0003|              B02682|              B02682|2021-01-01 00:45:56|2021-01-01 00:55:19|2021-01-01 00:55:19|2021-01-01 01:18:21|         152|         167|      3.65|     1382|              18.36|  0.0|0.55|     1.63|                 0.0|       null| 0.0|     17.06|                  N|                N|                  |               N|             N|\n",
      "|         2|           HV0003|              B02764|              B02764|2021-01-01 00:21:15|2021-01-01 00:22:41|2021-01-01 00:23:56|2021-01-01 00:38:05|         233|         142|      3.51|      849|              14.05|  0.0|0.48|     1.25|                2.75|       null|0.94|     12.98|                  N|                N|                  |               N|             N|\n",
      "|         3|           HV0003|              B02764|              B02764|2021-01-01 00:39:12|2021-01-01 00:42:37|2021-01-01 00:42:51|2021-01-01 00:45:50|         142|         143|      0.74|      179|               7.91|  0.0|0.24|      0.7|                2.75|       null| 0.0|      7.41|                  N|                N|                  |               N|             N|\n",
      "|         4|           HV0003|              B02764|              B02764|2021-01-01 00:46:11|2021-01-01 00:47:17|2021-01-01 00:48:14|2021-01-01 01:08:42|         143|          78|       9.2|     1228|              27.11|  0.0|0.81|     2.41|                2.75|       null| 0.0|     22.44|                  N|                N|                  |               N|             N|\n",
      "|         5|           HV0005|              B02510|                null|2021-01-01 00:04:00|               null|2021-01-01 00:06:59|2021-01-01 00:43:01|          88|          42|     9.725|     2162|              28.11|  0.0|0.84|     2.49|                2.75|       null| 0.0|      28.9|                  N|                N|                 N|               N|             N|\n",
      "|         6|           HV0005|              B02510|                null|2021-01-01 00:40:06|               null|2021-01-01 00:50:00|2021-01-01 01:04:57|          42|         151|     2.469|      897|              25.03|  0.0|0.75|     2.22|                 0.0|       null| 0.0|     15.01|                  N|                N|                 N|               N|             N|\n",
      "|         7|           HV0003|              B02764|              B02764|2021-01-01 00:10:36|2021-01-01 00:12:28|2021-01-01 00:14:30|2021-01-01 00:50:27|          71|         226|     13.53|     2157|              29.67|  0.0|1.04|     3.08|                 0.0|       null| 0.0|      34.2|                  N|                N|                  |               N|             N|\n",
      "|         8|           HV0003|              B02875|              B02875|2021-01-01 00:21:17|2021-01-01 00:22:25|2021-01-01 00:22:54|2021-01-01 00:30:20|         112|         255|       1.6|      446|               6.89|  0.0|0.21|     0.61|                 0.0|       null| 0.0|      6.26|                  N|                N|                  |               N|             N|\n",
      "|         9|           HV0003|              B02875|              B02875|2021-01-01 00:36:57|2021-01-01 00:38:09|2021-01-01 00:40:12|2021-01-01 00:53:31|         255|         232|       3.2|      800|              11.51|  0.0|0.53|     1.03|                2.75|       null|2.82|     10.99|                  N|                N|                  |               N|             N|\n",
      "|        10|           HV0003|              B02875|              B02875|2021-01-01 00:53:31|2021-01-01 00:56:21|2021-01-01 00:56:45|2021-01-01 01:17:42|         232|         198|      5.74|     1257|              17.18|  0.0|0.52|     1.52|                2.75|       null| 0.0|     17.61|                  N|                N|                  |               N|             N|\n",
      "|        11|           HV0003|              B02835|              B02835|2021-01-01 00:22:58|2021-01-01 00:27:01|2021-01-01 00:29:04|2021-01-01 00:36:27|         113|          48|       1.8|      443|               8.18|  0.0|0.25|     0.73|                2.75|       null| 0.0|      6.12|                  N|                N|                  |               N|             N|\n",
      "|        12|           HV0003|              B02835|              B02835|2021-01-01 00:46:44|2021-01-01 00:47:49|2021-01-01 00:48:56|2021-01-01 00:59:12|         239|          75|       2.9|      616|               13.1|  0.0|0.45|     1.17|                2.75|       null|0.94|      8.77|                  N|                N|                  |               N|             N|\n",
      "|        13|           HV0004|              B02800|                null|2021-01-01 00:12:50|               null|2021-01-01 00:15:24|2021-01-01 00:38:31|         181|         237|      9.66|     1387|              32.95|  0.0| 0.0|     2.34|                2.75|       null| 0.0|      21.1|                  N|                N|                 N|               N|             N|\n",
      "|        14|           HV0004|              B02800|                null|2021-01-01 00:35:32|               null|2021-01-01 00:45:00|2021-01-01 01:06:45|         236|          68|      4.38|     1305|              22.91|  0.0| 0.0|     1.63|                2.75|       null|3.43|     15.82|                  N|                N|                 N|               N|             N|\n",
      "|        15|           HV0003|              B02682|              B02682|2021-01-01 00:10:22|2021-01-01 00:11:03|2021-01-01 00:11:53|2021-01-01 00:18:06|         256|         148|      2.03|      373|               7.84|  0.0|0.42|      0.7|                2.75|       null|2.82|      6.93|                  N|                N|                  |               N|             N|\n",
      "|        16|           HV0003|              B02682|              B02682|2021-01-01 00:25:00|2021-01-01 00:26:31|2021-01-01 00:28:31|2021-01-01 00:41:40|          79|          80|      3.08|      789|               13.2|  0.0| 0.4|     1.17|                2.75|       null| 0.0|     11.54|                  N|                N|                  |               N|             N|\n",
      "|        17|           HV0003|              B02682|              B02682|2021-01-01 00:44:56|2021-01-01 00:49:55|2021-01-01 00:50:49|2021-01-01 00:55:59|          17|         217|      1.17|      310|               7.91|  0.0|0.24|      0.7|                 0.0|       null| 0.0|      6.94|                  N|                N|                  |               N|             N|\n",
      "|        18|           HV0005|              B02510|                null|2021-01-01 00:05:04|               null|2021-01-01 00:08:40|2021-01-01 00:39:39|          62|          29|    10.852|     1859|              31.18|  0.0|0.94|     2.77|                 0.0|       null| 0.0|     27.61|                  N|                N|                 N|               N|             N|\n",
      "|        19|           HV0003|              B02836|              B02836|2021-01-01 00:40:44|2021-01-01 00:53:34|2021-01-01 00:53:48|2021-01-01 01:11:40|          22|          22|      3.52|     1072|              28.67|  0.0|0.86|     2.54|                 0.0|       null| 0.0|     17.64|                  N|                N|                  |               N|             N|\n",
      "+----------+-----------------+--------------------+--------------------+-------------------+-------------------+-------------------+-------------------+------------+------------+----------+---------+-------------------+-----+----+---------+--------------------+-----------+----+----------+-------------------+-----------------+------------------+----------------+--------------+\n",
      "only showing top 20 rows\n",
      "\n"
     ]
    }
   ],
   "source": [
    "df = spark.read \\\n",
    "    .option(\"header\",\"true\") \\\n",
    "    .schema(schema) \\\n",
    "    .csv(\"C:/Users/Admin/Desktop/Project-DE/Uber/fhvhv_tripdata_2021-01.csv\")\n",
    "df.show()"
   ]
  },
  {
   "cell_type": "code",
   "execution_count": null,
   "metadata": {},
   "outputs": [],
   "source": [
    "# Rename the \"Unnamed: 0\" column to a valid name (e.g., \"unnamed_col\")\n",
    "df = df.withColumnRenamed(\"Unnamed: 0\", \"unnamed_col\")"
   ]
  },
  {
   "cell_type": "code",
   "execution_count": 14,
   "metadata": {},
   "outputs": [],
   "source": [
    "df = df.repartition(24)"
   ]
  },
  {
   "cell_type": "code",
   "execution_count": 15,
   "metadata": {},
   "outputs": [],
   "source": [
    "df.write.parquet(\"C:/Users/Admin/Desktop/Project-DE/Uber/fhvhv/2021/01/\")"
   ]
  },
  {
   "cell_type": "code",
   "execution_count": 17,
   "metadata": {},
   "outputs": [
    {
     "name": "stdout",
     "output_type": "stream",
     "text": [
      "root\n",
      " |-- unnamed_col: integer (nullable = true)\n",
      " |-- hvfhs_license_num: string (nullable = true)\n",
      " |-- dispatching_base_num: string (nullable = true)\n",
      " |-- originating_base_num: string (nullable = true)\n",
      " |-- request_datetime: string (nullable = true)\n",
      " |-- on_scene_datetime: string (nullable = true)\n",
      " |-- pickup_datetime: string (nullable = true)\n",
      " |-- dropoff_datetime: string (nullable = true)\n",
      " |-- PULocationID: integer (nullable = true)\n",
      " |-- DOLocationID: integer (nullable = true)\n",
      " |-- trip_miles: float (nullable = true)\n",
      " |-- trip_time: integer (nullable = true)\n",
      " |-- base_passenger_fare: float (nullable = true)\n",
      " |-- tolls: float (nullable = true)\n",
      " |-- bcf: float (nullable = true)\n",
      " |-- sales_tax: float (nullable = true)\n",
      " |-- congestion_surcharge: float (nullable = true)\n",
      " |-- airport_fee: float (nullable = true)\n",
      " |-- tips: float (nullable = true)\n",
      " |-- driver_pay: float (nullable = true)\n",
      " |-- shared_request_flag: string (nullable = true)\n",
      " |-- shared_match_flag: string (nullable = true)\n",
      " |-- access_a_ride_flag: string (nullable = true)\n",
      " |-- wav_request_flag: string (nullable = true)\n",
      " |-- wav_match_flag: string (nullable = true)\n",
      "\n"
     ]
    }
   ],
   "source": [
    "df = spark.read.parquet(\"C:/Users/Admin/Desktop/Project-DE/Uber/fhvhv/2021/01/\")\n",
    "df.printSchema()"
   ]
  },
  {
   "cell_type": "markdown",
   "metadata": {},
   "source": [
    "Transformations (lazy)"
   ]
  },
  {
   "cell_type": "code",
   "execution_count": 29,
   "metadata": {},
   "outputs": [
    {
     "data": {
      "text/plain": [
       "DataFrame[pickup_datetime: string, dropoff_datetime: string, PULocationID: int, DOLocationID: int]"
      ]
     },
     "execution_count": 29,
     "metadata": {},
     "output_type": "execute_result"
    }
   ],
   "source": [
    "df.select('pickup_datetime','dropoff_datetime','PULocationID','DOLocationID') \\\n",
    "  .filter(df.hvfhs_license_num == 'HV0003') "
   ]
  },
  {
   "cell_type": "markdown",
   "metadata": {},
   "source": [
    "Action"
   ]
  },
  {
   "cell_type": "code",
   "execution_count": 39,
   "metadata": {},
   "outputs": [
    {
     "name": "stdout",
     "output_type": "stream",
     "text": [
      "+-------------------+-------------------+------------+------------+\n",
      "|    pickup_datetime|   dropoff_datetime|PULocationID|DOLocationID|\n",
      "+-------------------+-------------------+------------+------------+\n",
      "|2021-01-02 19:28:36|2021-01-02 19:44:24|          25|          17|\n",
      "|2021-01-02 16:23:19|2021-01-02 16:43:05|         208|          60|\n",
      "|2021-01-02 09:30:43|2021-01-02 09:47:29|         121|          95|\n",
      "|2021-01-01 03:36:43|2021-01-01 03:49:50|          17|         255|\n",
      "|2021-01-01 16:00:28|2021-01-01 16:08:19|         188|          61|\n",
      "|2021-01-01 08:01:05|2021-01-01 08:21:58|          45|          36|\n",
      "|2021-01-01 01:48:24|2021-01-01 02:07:34|         126|         241|\n",
      "|2021-01-02 16:49:27|2021-01-02 17:15:20|          48|         265|\n",
      "|2021-01-02 11:17:37|2021-01-02 11:32:30|         143|         263|\n",
      "|2021-01-02 11:16:33|2021-01-02 11:25:28|         249|         230|\n",
      "|2021-01-02 14:55:04|2021-01-02 15:15:26|         235|          31|\n",
      "|2021-01-01 01:01:39|2021-01-01 01:19:36|         173|           7|\n",
      "|2021-01-01 03:09:50|2021-01-01 03:25:55|         143|          79|\n",
      "|2021-01-02 17:24:50|2021-01-02 17:52:29|          85|          77|\n",
      "|2021-01-03 04:10:05|2021-01-03 04:29:23|         109|         206|\n",
      "|2021-01-03 05:59:07|2021-01-03 06:14:16|          25|         162|\n",
      "|2021-01-01 00:56:28|2021-01-01 01:06:27|         213|          60|\n",
      "|2021-01-02 16:12:13|2021-01-02 16:46:08|          89|          82|\n",
      "|2021-01-02 23:15:39|2021-01-02 23:27:40|         169|         126|\n",
      "|2021-01-01 14:41:22|2021-01-01 14:48:23|          82|         260|\n",
      "+-------------------+-------------------+------------+------------+\n",
      "only showing top 20 rows\n",
      "\n"
     ]
    }
   ],
   "source": [
    "df.select('pickup_datetime','dropoff_datetime','PULocationID','DOLocationID') \\\n",
    "  .filter(df.hvfhs_license_num == 'HV0003') \\\n",
    "  .show()"
   ]
  },
  {
   "cell_type": "code",
   "execution_count": 41,
   "metadata": {},
   "outputs": [
    {
     "data": {
      "text/plain": [
       "[Row(pickup_datetime='2021-01-02 19:28:36', PULocationID=25, DOLocationID=17),\n",
       " Row(pickup_datetime='2021-01-02 16:23:19', PULocationID=208, DOLocationID=60),\n",
       " Row(pickup_datetime='2021-01-02 09:30:43', PULocationID=121, DOLocationID=95),\n",
       " Row(pickup_datetime='2021-01-01 03:36:43', PULocationID=17, DOLocationID=255),\n",
       " Row(pickup_datetime='2021-01-01 16:00:28', PULocationID=188, DOLocationID=61)]"
      ]
     },
     "execution_count": 41,
     "metadata": {},
     "output_type": "execute_result"
    }
   ],
   "source": [
    "df.select('pickup_datetime','PULocationID','DOLocationID') \\\n",
    "  .filter(df.hvfhs_license_num == 'HV0003') \\\n",
    "  .take(5)"
   ]
  },
  {
   "cell_type": "code",
   "execution_count": 44,
   "metadata": {},
   "outputs": [],
   "source": [
    "from pyspark.sql import functions as f"
   ]
  },
  {
   "cell_type": "code",
   "execution_count": 43,
   "metadata": {},
   "outputs": [
    {
     "name": "stdout",
     "output_type": "stream",
     "text": [
      "+-------------------+-------------------+------------+------------+------------+\n",
      "|    pickup_datetime|   dropoff_datetime|PULocationID|DOLocationID|current_date|\n",
      "+-------------------+-------------------+------------+------------+------------+\n",
      "|2021-01-02 19:28:36|2021-01-02 19:44:24|          25|          17|  2023-09-27|\n",
      "|2021-01-02 16:23:19|2021-01-02 16:43:05|         208|          60|  2023-09-27|\n",
      "|2021-01-02 09:30:43|2021-01-02 09:47:29|         121|          95|  2023-09-27|\n",
      "|2021-01-01 03:36:43|2021-01-01 03:49:50|          17|         255|  2023-09-27|\n",
      "|2021-01-01 16:00:28|2021-01-01 16:08:19|         188|          61|  2023-09-27|\n",
      "|2021-01-01 08:01:05|2021-01-01 08:21:58|          45|          36|  2023-09-27|\n",
      "|2021-01-01 01:48:24|2021-01-01 02:07:34|         126|         241|  2023-09-27|\n",
      "|2021-01-02 16:49:27|2021-01-02 17:15:20|          48|         265|  2023-09-27|\n",
      "|2021-01-02 11:17:37|2021-01-02 11:32:30|         143|         263|  2023-09-27|\n",
      "|2021-01-02 11:16:33|2021-01-02 11:25:28|         249|         230|  2023-09-27|\n",
      "|2021-01-02 14:55:04|2021-01-02 15:15:26|         235|          31|  2023-09-27|\n",
      "|2021-01-01 01:01:39|2021-01-01 01:19:36|         173|           7|  2023-09-27|\n",
      "|2021-01-01 03:09:50|2021-01-01 03:25:55|         143|          79|  2023-09-27|\n",
      "|2021-01-02 17:24:50|2021-01-02 17:52:29|          85|          77|  2023-09-27|\n",
      "|2021-01-03 04:10:05|2021-01-03 04:29:23|         109|         206|  2023-09-27|\n",
      "|2021-01-03 05:59:07|2021-01-03 06:14:16|          25|         162|  2023-09-27|\n",
      "|2021-01-01 00:56:28|2021-01-01 01:06:27|         213|          60|  2023-09-27|\n",
      "|2021-01-02 16:12:13|2021-01-02 16:46:08|          89|          82|  2023-09-27|\n",
      "|2021-01-02 23:15:39|2021-01-02 23:27:40|         169|         126|  2023-09-27|\n",
      "|2021-01-01 14:41:22|2021-01-01 14:48:23|          82|         260|  2023-09-27|\n",
      "+-------------------+-------------------+------------+------------+------------+\n",
      "only showing top 20 rows\n",
      "\n"
     ]
    }
   ],
   "source": [
    "df.select('pickup_datetime','dropoff_datetime','PULocationID','DOLocationID') \\\n",
    "  .filter(df.hvfhs_license_num == 'HV0003') \\\n",
    "  .withColumn(\"current_date\", f.current_date()).show()"
   ]
  },
  {
   "cell_type": "code",
   "execution_count": 50,
   "metadata": {},
   "outputs": [
    {
     "name": "stdout",
     "output_type": "stream",
     "text": [
      "+-----------+-----------------+--------------------+--------------------+-------------------+-------------------+-------------------+-------------------+------------+------------+----------+---------+-------------------+-----+----+---------+--------------------+-----------+----+----------+-------------------+-----------------+------------------+----------------+--------------+\n",
      "|unnamed_col|hvfhs_license_num|dispatching_base_num|originating_base_num|   request_datetime|  on_scene_datetime|    pickup_datetime|   dropoff_datetime|PULocationID|DOLocationID|trip_miles|trip_time|base_passenger_fare|tolls| bcf|sales_tax|congestion_surcharge|airport_fee|tips|driver_pay|shared_request_flag|shared_match_flag|access_a_ride_flag|wav_request_flag|wav_match_flag|\n",
      "+-----------+-----------------+--------------------+--------------------+-------------------+-------------------+-------------------+-------------------+------------+------------+----------+---------+-------------------+-----+----+---------+--------------------+-----------+----+----------+-------------------+-----------------+------------------+----------------+--------------+\n",
      "|     664213|           HV0003|              B02836|              B02836|2021-01-02 19:26:23|2021-01-02 19:26:36|2021-01-02 19:28:36|2021-01-02 19:44:24|          25|          17|      2.75|      948|               14.0|  0.0|0.42|     1.24|                 0.0|       null| 0.0|     11.96|                  N|                N|                  |               N|             N|\n",
      "|     595596|           HV0003|              B02872|              B02872|2021-01-02 16:18:39|2021-01-02 16:22:04|2021-01-02 16:23:19|2021-01-02 16:43:05|         208|          60|       5.1|     1186|               18.5|  0.0|0.56|     1.64|                 0.0|       null| 0.0|     17.34|                  N|                N|                  |               N|             N|\n",
      "|     570742|           HV0005|              B02510|                null|2021-01-02 15:23:34|               null|2021-01-02 15:25:35|2021-01-02 15:33:42|          78|         126|     1.494|      487|               7.31|  0.0|0.22|     0.65|                 0.0|       null| 0.0|      5.74|                  N|                N|                 N|               N|             N|\n",
      "|     720114|           HV0005|              B02510|                null|2021-01-02 22:05:00|               null|2021-01-02 22:06:58|2021-01-02 22:19:32|         141|         224|     3.854|      754|              12.97|  0.0|0.39|     1.15|                2.75|       null| 0.0|     10.59|                  N|                N|                 N|               N|             N|\n",
      "|     266381|           HV0005|              B02510|                null|2021-01-01 15:39:56|               null|2021-01-01 15:44:14|2021-01-01 15:51:40|          42|          74|     2.028|      446|              10.77|  0.0|0.32|     0.96|                 0.0|       null| 0.0|      5.98|                  N|                N|                 N|               N|             N|\n",
      "|     266977|           HV0005|              B02510|                null|2021-01-01 15:17:07|               null|2021-01-01 15:22:09|2021-01-01 15:46:12|         148|          75|     7.414|     1443|              31.01|  0.0|0.93|     2.75|                2.75|       null| 0.0|     22.71|                  N|                N|                 N|               N|             Y|\n",
      "|     476216|           HV0003|              B02765|              B02765|2021-01-02 09:22:25|2021-01-02 09:28:43|2021-01-02 09:30:43|2021-01-02 09:47:29|         121|          95|      2.47|     1006|              15.46|  0.0|0.46|     1.37|                 0.0|       null| 0.0|     11.71|                  N|                N|                  |               N|             N|\n",
      "|     117196|           HV0003|              B02875|              B02875|2021-01-01 03:33:58|2021-01-01 03:36:24|2021-01-01 03:36:43|2021-01-01 03:49:50|          17|         255|      3.17|      787|              13.87|  0.0|1.03|     1.26|                 0.0|       null| 9.4|     21.89|                  N|                N|                  |               N|             N|\n",
      "|     756975|           HV0005|              B02510|                null|2021-01-03 01:53:16|               null|2021-01-03 01:59:34|2021-01-03 02:13:49|          61|         188|     1.817|      855|               7.41|  0.0|0.16|     0.48|                 0.0|       null| 0.0|      9.18|                  N|                N|                 N|               N|             N|\n",
      "|     268841|           HV0003|              B02682|              B02682|2021-01-01 15:52:30|2021-01-01 16:00:05|2021-01-01 16:00:28|2021-01-01 16:08:19|         188|          61|      0.59|      471|               7.91|  0.0|0.24|      0.7|                 0.0|       null| 0.0|      6.19|                  N|                N|                  |               N|             N|\n",
      "|     174245|           HV0003|              B02882|              B02882|2021-01-01 07:51:07|2021-01-01 08:01:05|2021-01-01 08:01:05|2021-01-01 08:21:58|          45|          36|      7.58|     1253|              23.24|  0.0| 0.7|     2.06|                2.75|       null| 0.0|      19.2|                  N|                N|                  |               N|             N|\n",
      "|     353842|           HV0005|              B02510|                null|2021-01-01 19:53:21|               null|2021-01-01 20:00:21|2021-01-01 20:08:46|          62|          71|     1.338|      505|               7.83| 0.11|0.24|      0.7|                 0.0|       null| 0.0|      5.71|                  N|                N|                 N|               N|             N|\n",
      "|      45967|           HV0003|              B02869|              B02869|2021-01-01 01:41:32|2021-01-01 01:47:33|2021-01-01 01:48:24|2021-01-01 02:07:34|         126|         241|      6.44|     1150|               18.9|  0.0|0.55|     1.68|                 0.0|       null| 0.0|     18.58|                  N|                N|                  |               N|             N|\n",
      "|     596516|           HV0003|              B02765|              B02765|2021-01-02 16:47:11|2021-01-02 16:49:15|2021-01-02 16:49:27|2021-01-02 17:15:20|          48|         265|      5.55|     1553|              17.05| 20.0| 1.6|      0.0|                 0.0|       null|7.52|     21.21|                  N|                N|                  |               N|             N|\n",
      "|     495024|           HV0003|              B02836|              B02836|2021-01-02 11:15:52|2021-01-02 11:17:10|2021-01-02 11:17:37|2021-01-02 11:32:30|         143|         263|      3.29|      893|              15.76|  0.0|0.47|      1.4|                2.75|       null| 0.0|     13.35|                  N|                N|                  |               N|             N|\n",
      "|     493293|           HV0003|              B02395|              B02395|2021-01-02 11:13:59|2021-01-02 11:15:33|2021-01-02 11:16:33|2021-01-02 11:25:28|         249|         230|      2.48|      535|              12.93|  0.0| 0.0|      0.0|                2.75|       null| 0.0|      8.25|                  N|                N|                  |               N|             N|\n",
      "|      80311|           HV0005|              B02510|                null|2021-01-01 02:02:39|               null|2021-01-01 02:31:30|2021-01-01 02:39:31|          50|         151|     3.111|      481|              14.44|  0.0|0.43|     1.28|                2.75|       null| 0.0|      7.48|                  N|                N|                 N|               N|             N|\n",
      "|     556956|           HV0003|              B02872|              B02872|2021-01-02 14:46:53|2021-01-02 14:53:03|2021-01-02 14:55:04|2021-01-02 15:15:26|         235|          31|       3.1|     1223|              15.37|  0.0|0.46|     1.36|                 0.0|       null| 0.0|     16.34|                  N|                N|                  |               N|             N|\n",
      "|      39645|           HV0003|              B02867|              B02867|2021-01-01 00:51:45|2021-01-01 00:59:39|2021-01-01 01:01:39|2021-01-01 01:19:36|         173|           7|      6.38|     1077|              23.59|  0.0|0.71|     2.09|                 0.0|       null| 0.0|     22.65|                  N|                N|                  |               N|             N|\n",
      "|     119773|           HV0003|              B02872|              B02872|2021-01-01 03:01:07|2021-01-01 03:09:31|2021-01-01 03:09:50|2021-01-01 03:25:55|         143|          79|      6.14|      965|              23.94|  0.0|0.72|     2.12|                2.75|       null| 0.0|     16.41|                  N|                N|                  |               N|             N|\n",
      "+-----------+-----------------+--------------------+--------------------+-------------------+-------------------+-------------------+-------------------+------------+------------+----------+---------+-------------------+-----+----+---------+--------------------+-----------+----+----------+-------------------+-----------------+------------------+----------------+--------------+\n",
      "only showing top 20 rows\n",
      "\n"
     ]
    }
   ],
   "source": [
    "df.show()"
   ]
  },
  {
   "cell_type": "code",
   "execution_count": 51,
   "metadata": {},
   "outputs": [],
   "source": [
    "def crazy_stuff(base_num):\n",
    "    num = int(base_num[1:])\n",
    "    if num % 7 == 0:\n",
    "        return f's/{num:03x}'\n",
    "    elif num % 3 == 0:\n",
    "        return f'a/{num:03x}'\n",
    "    else:\n",
    "        return f'e/{num:03x}'\n",
    "    \n",
    "crazy_stuff_udf = f.udf(crazy_stuff, returnType=types.StringType())"
   ]
  },
  {
   "cell_type": "code",
   "execution_count": 56,
   "metadata": {},
   "outputs": [
    {
     "name": "stdout",
     "output_type": "stream",
     "text": [
      "+-------+------------+------------+\n",
      "|base_id|PULocationID|DOLocationID|\n",
      "+-------+------------+------------+\n",
      "|  e/b14|          25|          17|\n",
      "|  e/b38|         208|          60|\n",
      "|  e/9ce|          78|         126|\n",
      "|  e/9ce|         141|         224|\n",
      "|  e/9ce|          42|          74|\n",
      "|  e/9ce|         148|          75|\n",
      "|  s/acd|         121|          95|\n",
      "|  e/b3b|          17|         255|\n",
      "|  e/9ce|          61|         188|\n",
      "|  a/a7a|         188|          61|\n",
      "|  e/b42|          45|          36|\n",
      "|  e/9ce|          62|          71|\n",
      "|  e/b35|         126|         241|\n",
      "|  s/acd|          48|         265|\n",
      "|  e/b14|         143|         263|\n",
      "|  e/95b|         249|         230|\n",
      "|  e/9ce|          50|         151|\n",
      "|  e/b38|         235|          31|\n",
      "|  e/b33|         173|           7|\n",
      "|  e/b38|         143|          79|\n",
      "+-------+------------+------------+\n",
      "only showing top 20 rows\n",
      "\n"
     ]
    }
   ],
   "source": [
    "df.withColumn('base_id', crazy_stuff_udf(df.dispatching_base_num)) \\\n",
    "    .select('base_id','PULocationID', 'DOLocationID') \\\n",
    "    .show()"
   ]
  }
 ],
 "metadata": {
  "kernelspec": {
   "display_name": "Python 3",
   "language": "python",
   "name": "python3"
  },
  "language_info": {
   "codemirror_mode": {
    "name": "ipython",
    "version": 3
   },
   "file_extension": ".py",
   "mimetype": "text/x-python",
   "name": "python",
   "nbconvert_exporter": "python",
   "pygments_lexer": "ipython3",
   "version": "3.10.2"
  },
  "orig_nbformat": 4
 },
 "nbformat": 4,
 "nbformat_minor": 2
}
