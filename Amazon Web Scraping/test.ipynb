{
 "cells": [
  {
   "cell_type": "code",
   "execution_count": 7,
   "metadata": {},
   "outputs": [
    {
     "name": "stdout",
     "output_type": "stream",
     "text": [
      "['samsung-galaxy-a14', 'oppo-find-n2-flip', 'iphone-14-pro-max', 'iphone-14-pro', 'xiaomi-redmi-12-4gb', 'samsung-galaxy-a24', 'vivo-y36-128gb', 'xiaomi-redmi-12c-64gb', 'samsung-galaxy-s21-fe-6gb', 'iphone-11', 'xiaomi-redmi-note-12-8gb-256gb', 'vivo-y02t', 'oppo-reno8-t-5g-256gb', 'realme-c55', 'samsung-galaxy-s23-ultra', 'samsung-galaxy-a34-5g-128gb', 'iphone-14', 'vivo-y16-64gb', 'realme-c30s-2gb', 'samsung-galaxy-s23-plus']\n"
     ]
    }
   ],
   "source": [
    "from bs4 import BeautifulSoup\n",
    "import requests\n",
    "URL = 'https://www.thegioididong.com/dtdd#c=42&o=17&pi=1'\n",
    "HEADERS = ({'User-Agent':'Mozilla/5.0 (X11; Ubuntu; Linux x86_64; rv:80.0) Gecko/20100101 Firefox/80.0','Accept-Language':'en-US, en;q=0.5'})\n",
    "webpage = requests.get(URL,headers = HEADERS)\n",
    "soup = BeautifulSoup(webpage.content,\"html.parser\")\n",
    "links = soup.find_all(\"li\", class_=\"item ajaxed __cate_42\")\n",
    "part_list = []\n",
    "for li_tag in links:\n",
    "    a_tag = li_tag.find('a', class_='main-contain')\n",
    "    if a_tag:\n",
    "        href_value = a_tag.get('href')\n",
    "        parts = href_value.split('/dtdd/')\n",
    "        if len(parts) > 1:\n",
    "            part_list.append(parts[1])\n",
    "print(part_list)"
   ]
  }
 ],
 "metadata": {
  "kernelspec": {
   "display_name": "Python 3",
   "language": "python",
   "name": "python3"
  },
  "language_info": {
   "codemirror_mode": {
    "name": "ipython",
    "version": 3
   },
   "file_extension": ".py",
   "mimetype": "text/x-python",
   "name": "python",
   "nbconvert_exporter": "python",
   "pygments_lexer": "ipython3",
   "version": "3.10.2"
  },
  "orig_nbformat": 4
 },
 "nbformat": 4,
 "nbformat_minor": 2
}
