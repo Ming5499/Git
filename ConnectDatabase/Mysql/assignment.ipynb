{
 "cells": [
  {
   "cell_type": "code",
   "execution_count": 2,
   "metadata": {},
   "outputs": [],
   "source": [
    "\n",
    "import mysql.connector as connector\n",
    "connection=connector.connect(\n",
    "                             host=\"localhost\",\n",
    "                             user=\"root\",\n",
    "                             password=\"123456\",\n",
    "                            )\n",
    "cursor = connection.cursor()\n",
    "cursor.execute(\"USE little_lemon\")"
   ]
  },
  {
   "cell_type": "code",
   "execution_count": 3,
   "metadata": {},
   "outputs": [],
   "source": [
    "\n",
    "#STORED PROCEDURE: PeakHours\n",
    "cursor.execute(\"DROP PROCEDURE IF EXISTS PeakHours;\")\n",
    "peakhours_query=\"\"\"\n",
    "CREATE PROCEDURE PeakHours()\n",
    "BEGIN\n",
    "    SELECT \n",
    "    HOUR(BookingSlot) AS booking_hour,\n",
    "    COUNT(HOUR(BookingSlot)) AS n_bookings\n",
    "    FROM Bookings\n",
    "    GROUP BY booking_hour\n",
    "    ORDER BY n_bookings DESC;\n",
    "END\"\"\"\n",
    "cursor.execute(peakhours_query)"
   ]
  },
  {
   "cell_type": "code",
   "execution_count": 4,
   "metadata": {},
   "outputs": [
    {
     "name": "stdout",
     "output_type": "stream",
     "text": [
      "['booking_hour', 'n_bookings']\n",
      "(19, 4)\n",
      "(18, 2)\n",
      "(15, 1)\n",
      "(17, 1)\n",
      "(20, 1)\n"
     ]
    }
   ],
   "source": [
    "cursor.callproc(\"PeakHours\")\n",
    "results = next(cursor.stored_results() )\n",
    "dataset = results.fetchall()\n",
    "#retrieve column\n",
    "for column_id in cursor.stored_results():\n",
    "    columns = [column[0] for column in column_id.description]\n",
    "\n",
    "print(columns)\n",
    "for data in dataset:\n",
    "    print(data)"
   ]
  },
  {
   "cell_type": "code",
   "execution_count": 5,
   "metadata": {},
   "outputs": [],
   "source": [
    "#STORED PROCEDURE: GuestStatus\n",
    "cursor.execute(\"DROP PROCEDURE IF EXISTS GuestStatus;\")\n",
    "gueststatus_query=\"\"\"\n",
    "CREATE PROCEDURE GuestStatus()\n",
    "BEGIN\n",
    "SELECT \n",
    "    Bookings.BookingID AS OrderNumber,  \n",
    "    CONCAT(GuestFirstName,' ',GuestLastName) AS GuestName, \n",
    "    Role AS Employee, \n",
    "    CASE \n",
    "        WHEN Role IN ('Manager','Assistant Manager') THEN \"Ready to Pay\"\n",
    "        WHEN Role = 'Head Chef' THEN \"Ready to serve\"\n",
    "        WHEN Role = 'Assistant Chef' THEN \"Preparing order\"\n",
    "        WHEN Role = 'Head Waiter' THEN \"Order served\"\n",
    "    ELSE \"Pending\"\n",
    "    END AS Status\n",
    "    FROM Bookings \n",
    "        LEFT JOIN \n",
    "        Employees \n",
    "        ON Employees.EmployeeID=Bookings.EmployeeID;\n",
    "END\"\"\"\n",
    "cursor.execute(gueststatus_query)"
   ]
  },
  {
   "cell_type": "code",
   "execution_count": 6,
   "metadata": {},
   "outputs": [
    {
     "name": "stdout",
     "output_type": "stream",
     "text": [
      "['OrderNumber', 'GuestName', 'Employee', 'Status']\n",
      "(1, 'Anna Iversen', 'Manager', 'Ready to Pay')\n",
      "(2, 'Joakim Iversen', 'Manager', 'Ready to Pay')\n",
      "(3, 'Vanessa McCarthy', 'Head Chef', 'Ready to serve')\n",
      "(4, 'Marcos Romero', 'Assistant Chef', 'Preparing order')\n",
      "(5, 'Hiroki Yamane', 'Assistant Manager', 'Ready to Pay')\n",
      "(6, 'Diana Pinto', 'Head Waiter', 'Order served')\n",
      "(7, 'Anees Java', 'Receptionist', 'Pending')\n",
      "(8, 'Bald Vin', 'Receptionist', 'Pending')\n",
      "(9, 'Jay Kon', 'Receptionist', 'Pending')\n"
     ]
    }
   ],
   "source": [
    "cursor.callproc(\"GuestStatus\")\n",
    "results = next(cursor.stored_results())\n",
    "dataset = results.fetchall()\n",
    "\n",
    "# Retrieve column \n",
    "for column_id in cursor.stored_results():\n",
    "    columns = [column[0] for column in column_id.description]\n",
    "\n",
    "print(columns)\n",
    "for data in dataset:\n",
    "    print(data)\n",
    "    \n"
   ]
  },
  {
   "cell_type": "code",
   "execution_count": 7,
   "metadata": {},
   "outputs": [
    {
     "name": "stdout",
     "output_type": "stream",
     "text": [
      "The connection pool is created with a name:  mypool\n",
      "The pool size is: 2\n"
     ]
    }
   ],
   "source": [
    "\n",
    "\n",
    "#Little Lemon Analysis and Sales Report\n",
    "\n",
    "import mysql.connector as connector\n",
    "\n",
    "from mysql.connector.pooling import MySQLConnectionPool\n",
    "from mysql.connector import Error\n",
    "\n",
    "# Define database configurations\n",
    "dbconfig = {\n",
    "    \"host\": \"localhost\",\n",
    "    \"user\": \"root\",\n",
    "    \"password\": \"123456\",\n",
    "    \"database\": \"little_lemon\",\n",
    "}\n",
    "\n",
    "# Establish a connection pool with two connections\n",
    "pool= MySQLConnectionPool(pool_name=\"mypool\", pool_size=2, **dbconfig)\n",
    "\n",
    "# Implement error handling\n",
    "try:\n",
    "    # Get a connection from the pool\n",
    "    connection = pool.get_connection()\n",
    "\n",
    "    # Perform database operations here\n",
    "    # ...\n",
    "    print(\"The connection pool is created with a name: \",pool.pool_name)\n",
    "    print(\"The pool size is:\",pool.pool_size)\n",
    "    # Release the connection back to the pool\n",
    "    connection.close()\n",
    "except Error as e:\n",
    "    print(\"Error while connecting to MySQL:\", e)\n"
   ]
  },
  {
   "cell_type": "code",
   "execution_count": 8,
   "metadata": {},
   "outputs": [
    {
     "name": "stdout",
     "output_type": "stream",
     "text": [
      "Error while connecting to MySQL: 1054 (42S22): Unknown column 'FirstName' in 'field list'\n",
      "Error while connecting to MySQL: 1054 (42S22): Unknown column 'FirstName' in 'field list'\n",
      "Error while connecting to MySQL: Failed getting connection; pool exhausted\n"
     ]
    }
   ],
   "source": [
    "# Define the data for the three guests\n",
    "guests = [\n",
    "    {\n",
    "        \"table_number\": 8,\n",
    "        \"first_name\": \"Anees\",\n",
    "        \"last_name\": \"Java\",\n",
    "        \"booking_time\": \"18:00\",\n",
    "        \"employee_id\": 6\n",
    "    },\n",
    "    {\n",
    "        \"table_number\": 5,\n",
    "        \"first_name\": \"Bald\",\n",
    "        \"last_name\": \"Vin\",\n",
    "        \"booking_time\": \"19:00\",\n",
    "        \"employee_id\": 6\n",
    "    },\n",
    "    {\n",
    "        \"table_number\": 12,\n",
    "        \"first_name\": \"Jay\",\n",
    "        \"last_name\": \"Kon\",\n",
    "        \"booking_time\": \"19:30\",\n",
    "        \"employee_id\": 6\n",
    "    }\n",
    "]\n",
    "\n",
    "# Insert the data for each guest in the Bookings table\n",
    "for guest in guests:\n",
    "    try:\n",
    "        # Get a connection from the pool\n",
    "        connection = pool.get_connection()\n",
    "\n",
    "        # Execute the INSERT query\n",
    "        cursor = connection.cursor()\n",
    "        query = \"INSERT INTO Bookings (TableNo, FirstName, LastName, BookingTime, EmployeeID) VALUES (%s, %s, %s, %s, %s)\"\n",
    "        data = (guest[\"table_number\"], guest[\"first_name\"], guest[\"last_name\"], guest[\"booking_time\"], guest[\"employee_id\"])\n",
    "        cursor.execute(query, data)\n",
    "\n",
    "        # Commit the changes\n",
    "        connection.commit()\n",
    "\n",
    "        # Release the connection back to the pool\n",
    "        connection.close()\n",
    "    except Error as e:\n",
    "        print(\"Error while connecting to MySQL:\", e)"
   ]
  },
  {
   "cell_type": "code",
   "execution_count": 9,
   "metadata": {},
   "outputs": [
    {
     "name": "stdout",
     "output_type": "stream",
     "text": [
      "('Name', 'EmployeeID')\n",
      "('Mario Gollini', 1)\n"
     ]
    }
   ],
   "source": [
    "#Create report\n",
    "select_name_id_query = \"\"\"\n",
    "SELECT Name, EmployeeID \n",
    "FROM Employees WHERE Role = 'Manager'\n",
    "\"\"\"\n",
    "cursor.execute(select_name_id_query)\n",
    "results=cursor.fetchall()\n",
    "columns=cursor.column_names\n",
    "print(columns)\n",
    "for result in results:\n",
    "    print(result)"
   ]
  },
  {
   "cell_type": "code",
   "execution_count": 10,
   "metadata": {},
   "outputs": [
    {
     "name": "stdout",
     "output_type": "stream",
     "text": [
      "('Name', 'Role')\n",
      "('Mario Gollini', 'Manager')\n"
     ]
    }
   ],
   "source": [
    "select_name_role_query = \"\"\"\n",
    "SELECT Name, Role \n",
    "FROM Employees WhERE Annual_Salary = (SELECT MAX(Annual_Salary) FROM Employees)\n",
    "\"\"\"\n",
    "cursor.execute(select_name_role_query)\n",
    "results=cursor.fetchall()\n",
    "columns=cursor.column_names\n",
    "print(columns)\n",
    "for result in results:\n",
    "    print(result)"
   ]
  },
  {
   "cell_type": "code",
   "execution_count": 11,
   "metadata": {},
   "outputs": [
    {
     "name": "stdout",
     "output_type": "stream",
     "text": [
      "('COUNT(BookingID)',)\n",
      "(7,)\n"
     ]
    }
   ],
   "source": [
    "select_number_guest_booked_query = \"\"\"\n",
    "SELECT COUNT(BookingID)\n",
    "FROM bookings \n",
    "WHERE BookingSlot between '18:00:00' and '20:00:00'\n",
    "\"\"\"\n",
    "cursor.execute(select_number_guest_booked_query)\n",
    "results=cursor.fetchall()\n",
    "columns=cursor.column_names\n",
    "print(columns)\n",
    "for result in results:\n",
    "    print(result)"
   ]
  },
  {
   "cell_type": "code",
   "execution_count": 12,
   "metadata": {},
   "outputs": [
    {
     "name": "stdout",
     "output_type": "stream",
     "text": [
      "('ID', 'GuestName', 'Employee')\n",
      "(9, 'Jay Kon', 'Receptionist')\n",
      "(8, 'Bald Vin', 'Receptionist')\n",
      "(7, 'Anees Java', 'Receptionist')\n"
     ]
    }
   ],
   "source": [
    "select_guest_waiting_query=\"\"\"\n",
    "SELECT \n",
    "    b.BookingID AS ID,  \n",
    "    CONCAT(GuestFirstName,' ',GuestLastName) AS GuestName, \n",
    "    Role AS Employee\n",
    "FROM Bookings b\n",
    "    LEFT JOIN Employees e\n",
    "    ON e.EmployeeID=b.EmployeeID\n",
    "    WHERE e.Role = \"Receptionist\"\n",
    "    ORDER BY BookingSlot DESC;\n",
    "\"\"\"\n",
    "cursor.execute(select_guest_waiting_query)\n",
    "results=cursor.fetchall()\n",
    "columns=cursor.column_names\n",
    "print(columns)\n",
    "for result in results:\n",
    "    print(result)"
   ]
  },
  {
   "cell_type": "code",
   "execution_count": 13,
   "metadata": {},
   "outputs": [
    {
     "name": "stdout",
     "output_type": "stream",
     "text": [
      "Sales Report\n",
      "(Decimal('243'), Decimal('48.6000'), 37, 86)\n"
     ]
    }
   ],
   "source": [
    "#Stored Procedure Basic Sales Report \n",
    "\n",
    "cursor.execute(\"DROP PROCEDURE IF EXISTS BasicSalesReport;\")\n",
    "\n",
    "stored_procedure_query=\"\"\"\n",
    "CREATE PROCEDURE BasicSalesReport()\n",
    "BEGIN\n",
    "SELECT \n",
    "    SUM(BillAmount) AS Total_Sales,\n",
    "    AVG(BillAmount) AS Average_Sale,\n",
    "    MIN(BillAmount) AS Minimum_Bill_Paid,\n",
    "    MAX(BillAmount) AS Maximum_Bill_Paid\n",
    "FROM Orders;\n",
    "END\"\"\"\n",
    "cursor.execute(stored_procedure_query)\n",
    "cursor.callproc(\"BasicSalesReport\")\n",
    "\n",
    "# Retrieve records in \"dataset\"\n",
    "results = next( cursor.stored_results() )\n",
    "dataset = results.fetchall()\n",
    "\n",
    "print(\"Sales Report\")\n",
    "for data in dataset:\n",
    "    print(data)"
   ]
  },
  {
   "cell_type": "code",
   "execution_count": 14,
   "metadata": {},
   "outputs": [
    {
     "name": "stdout",
     "output_type": "stream",
     "text": [
      "('BookingSlot 19:30:00', 'Guest_name: Jay Kon', 'Assigned_to: John Millar [Receptionist]')\n",
      "('BookingSlot 19:00:00', 'Guest_name: Bald Vin', 'Assigned_to: John Millar [Receptionist]')\n",
      "('BookingSlot 18:00:00', 'Guest_name: Anees Java', 'Assigned_to: John Millar [Receptionist]')\n"
     ]
    }
   ],
   "source": [
    "#Upcoming Bookings\n",
    "import mysql.connector as connector\n",
    "\n",
    "from mysql.connector.pooling import MySQLConnectionPool\n",
    "from mysql.connector import Error\n",
    "\n",
    "# Define database configurations\n",
    "dbconfig = {\n",
    "    \"host\": \"localhost\",\n",
    "    \"user\": \"root\",\n",
    "    \"password\": \"123456\",\n",
    "    \"database\": \"little_lemon\",\n",
    "}\n",
    "\n",
    "# Establish a connection pool with two connections\n",
    "pool= MySQLConnectionPool(pool_name=\"mypool\", pool_size=2, **dbconfig)\n",
    "\n",
    "connection1 = pool.get_connection()\n",
    "cursor = connection1.cursor()\n",
    "\n",
    "select_upcoming_bookings_query = \"\"\"\n",
    "SELECT \n",
    "\tCONCAT(\"BookingSlot\",\" \", b.BookingSlot) as BookingSlot,\n",
    "\tCONCAT(\"Guest_name:\",\" \", CONCAT(b.GuestFirstName,\" \",b.GuestLastName)) as Guest_name,\n",
    "\tCONCAT(\"Assigned_to:\",\" \", CONCAT(e.Name, \" [\", e.Role, \"]\")) AS Assigned_to\n",
    "FROM Bookings b\n",
    "INNER JOIN \n",
    "Employees e\n",
    "ON e.EmployeeID=b.EmployeeID\n",
    "Order by b.BookingID desc limit 3;\n",
    "\"\"\"\n",
    "\n",
    "cursor.execute(select_upcoming_bookings_query)\n",
    "results = cursor.fetchall()\n",
    "for result in results:\n",
    "    print(result)\n"
   ]
  },
  {
   "cell_type": "code",
   "execution_count": 15,
   "metadata": {},
   "outputs": [],
   "source": [
    "cursor.execute(\"\"\"SELECT ADDTIME(\"1:00:00\",\"-1:00:00\")\"\"\")\n",
    "result=cursor.fetchall()\n",
    "print(result)"
   ]
  }
 ],
 "metadata": {
  "kernelspec": {
   "display_name": "Python 3",
   "language": "python",
   "name": "python3"
  },
  "language_info": {
   "codemirror_mode": {
    "name": "ipython",
    "version": 3
   },
   "file_extension": ".py",
   "mimetype": "text/x-python",
   "name": "python",
   "nbconvert_exporter": "python",
   "pygments_lexer": "ipython3",
   "version": "3.10.2"
  },
  "orig_nbformat": 4
 },
 "nbformat": 4,
 "nbformat_minor": 2
}
