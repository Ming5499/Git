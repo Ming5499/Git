{
 "cells": [
  {
   "cell_type": "code",
   "execution_count": 1,
   "metadata": {},
   "outputs": [],
   "source": [
    "\n",
    "import mysql.connector as connector\n",
    "connection=connector.connect(\n",
    "                             host=\"localhost\",\n",
    "                             user=\"root\",\n",
    "                             password=\"123456\",\n",
    "                            )\n",
    "cursor = connection.cursor()\n",
    "cursor.execute(\"USE little_lemon\")\n"
   ]
  },
  {
   "cell_type": "code",
   "execution_count": 2,
   "metadata": {},
   "outputs": [],
   "source": [
    "from mysql.connector.pooling import MySQLConnectionPool"
   ]
  },
  {
   "cell_type": "code",
   "execution_count": 4,
   "metadata": {},
   "outputs": [],
   "source": [
    "pool = MySQLConnectionPool(pool_name=\"little_lemon_pool\",\n",
    "                           pool_size=4,\n",
    "                           host=\"localhost\",\n",
    "                           database=\"little_lemon\",\n",
    "                           user=\"root\",\n",
    "                           password=\"123456\")"
   ]
  },
  {
   "cell_type": "code",
   "execution_count": 5,
   "metadata": {},
   "outputs": [],
   "source": [
    "users = ['mary','john','micheal','tony']"
   ]
  },
  {
   "cell_type": "code",
   "execution_count": 6,
   "metadata": {},
   "outputs": [],
   "source": [
    "select_stmt = \"SELECT * FROM bookings WHERE BookingID=%(booking_id)s\""
   ]
  },
  {
   "cell_type": "code",
   "execution_count": 10,
   "metadata": {},
   "outputs": [
    {
     "name": "stdout",
     "output_type": "stream",
     "text": [
      "The connection id for mary 13 is requesting info on booking 1\n",
      "[(1, 12, 'Anna', 'Iversen', datetime.timedelta(seconds=68400), 1)]\n",
      "The connection id for john 13 is requesting info on booking 2\n",
      "[(2, 12, 'Joakim', 'Iversen', datetime.timedelta(seconds=68400), 1)]\n",
      "The connection id for micheal 13 is requesting info on booking 3\n",
      "[(3, 19, 'Vanessa', 'McCarthy', datetime.timedelta(seconds=54000), 3)]\n",
      "The connection id for tony 13 is requesting info on booking 4\n",
      "[(4, 15, 'Marcos', 'Romero', datetime.timedelta(seconds=63000), 4)]\n"
     ]
    }
   ],
   "source": [
    "for i in range(pool.pool_size):\n",
    "    conn = pool.get_connection()\n",
    "    if conn.is_connected:\n",
    "        cursor = conn.cursor()\n",
    "        print(\"The connection id for {} {} is requesting info on booking {}\"\n",
    "              .format(users[i],conn.connection_id,i+1))\n",
    "        cursor.execute(select_stmt,{'booking_id':i+1})\n",
    "        print(cursor.fetchall())\n",
    "    else:\n",
    "        print(\"no live connection made\")\n",
    "    conn.close()"
   ]
  },
  {
   "cell_type": "code",
   "execution_count": 14,
   "metadata": {},
   "outputs": [
    {
     "name": "stdout",
     "output_type": "stream",
     "text": [
      "[Anna] is connected.\n",
      "\n",
      "[Marcos] is connected.\n",
      "\n",
      "[Diana] is connected.\n",
      "\n",
      "No more connections are available.\n",
      "Adding new connection in the pool.\n"
     ]
    },
    {
     "ename": "ProgrammingError",
     "evalue": "1045 (28000): Access denied for user 'root'@'localhost' (using password: NO)",
     "output_type": "error",
     "traceback": [
      "\u001b[1;31m---------------------------------------------------------------------------\u001b[0m",
      "\u001b[1;31mEmpty\u001b[0m                                     Traceback (most recent call last)",
      "File \u001b[1;32mc:\\Users\\Admin\\AppData\\Local\\Programs\\Python\\Python310\\lib\\site-packages\\mysql\\connector\\pooling.py:327\u001b[0m, in \u001b[0;36mMySQLConnectionPool.get_connection\u001b[1;34m(self)\u001b[0m\n\u001b[0;32m    326\u001b[0m \u001b[39mtry\u001b[39;00m:\n\u001b[1;32m--> 327\u001b[0m     cnx \u001b[39m=\u001b[39m \u001b[39mself\u001b[39;49m\u001b[39m.\u001b[39;49m_cnx_queue\u001b[39m.\u001b[39;49mget(block\u001b[39m=\u001b[39;49m\u001b[39mFalse\u001b[39;49;00m)\n\u001b[0;32m    328\u001b[0m \u001b[39mexcept\u001b[39;00m queue\u001b[39m.\u001b[39mEmpty:\n",
      "File \u001b[1;32mc:\\Users\\Admin\\AppData\\Local\\Programs\\Python\\Python310\\lib\\queue.py:168\u001b[0m, in \u001b[0;36mQueue.get\u001b[1;34m(self, block, timeout)\u001b[0m\n\u001b[0;32m    167\u001b[0m     \u001b[39mif\u001b[39;00m \u001b[39mnot\u001b[39;00m \u001b[39mself\u001b[39m\u001b[39m.\u001b[39m_qsize():\n\u001b[1;32m--> 168\u001b[0m         \u001b[39mraise\u001b[39;00m Empty\n\u001b[0;32m    169\u001b[0m \u001b[39melif\u001b[39;00m timeout \u001b[39mis\u001b[39;00m \u001b[39mNone\u001b[39;00m:\n",
      "\u001b[1;31mEmpty\u001b[0m: ",
      "\nDuring handling of the above exception, another exception occurred:\n",
      "\u001b[1;31mPoolError\u001b[0m                                 Traceback (most recent call last)",
      "\u001b[1;32mc:\\Users\\Admin\\Desktop\\VSCode\\Git\\ConnectDatabase\\Mysql\\connection-pool.ipynb Cell 7\u001b[0m in \u001b[0;36m<cell line: 21>\u001b[1;34m()\u001b[0m\n\u001b[0;32m     <a href='vscode-notebook-cell:/c%3A/Users/Admin/Desktop/VSCode/Git/ConnectDatabase/Mysql/connection-pool.ipynb#W6sZmlsZQ%3D%3D?line=21'>22</a>\u001b[0m \u001b[39mtry\u001b[39;00m:\n\u001b[1;32m---> <a href='vscode-notebook-cell:/c%3A/Users/Admin/Desktop/VSCode/Git/ConnectDatabase/Mysql/connection-pool.ipynb#W6sZmlsZQ%3D%3D?line=22'>23</a>\u001b[0m     guest_connected \u001b[39m=\u001b[39m pool\u001b[39m.\u001b[39;49mget_connection()\n\u001b[0;32m     <a href='vscode-notebook-cell:/c%3A/Users/Admin/Desktop/VSCode/Git/ConnectDatabase/Mysql/connection-pool.ipynb#W6sZmlsZQ%3D%3D?line=23'>24</a>\u001b[0m     \u001b[39mprint\u001b[39m(\u001b[39m\"\u001b[39m\u001b[39m[\u001b[39m\u001b[39m{}\u001b[39;00m\u001b[39m] is connected.\u001b[39m\u001b[39m\\n\u001b[39;00m\u001b[39m\"\u001b[39m\u001b[39m.\u001b[39mformat(guest))\n",
      "File \u001b[1;32mc:\\Users\\Admin\\AppData\\Local\\Programs\\Python\\Python310\\lib\\site-packages\\mysql\\connector\\pooling.py:329\u001b[0m, in \u001b[0;36mMySQLConnectionPool.get_connection\u001b[1;34m(self)\u001b[0m\n\u001b[0;32m    328\u001b[0m \u001b[39mexcept\u001b[39;00m queue\u001b[39m.\u001b[39mEmpty:\n\u001b[1;32m--> 329\u001b[0m     \u001b[39mraise\u001b[39;00m errors\u001b[39m.\u001b[39mPoolError(\n\u001b[0;32m    330\u001b[0m         \u001b[39m\"\u001b[39m\u001b[39mFailed getting connection; pool exhausted\u001b[39m\u001b[39m\"\u001b[39m)\n\u001b[0;32m    332\u001b[0m \u001b[39m# pylint: disable=W0201,W0212\u001b[39;00m\n",
      "\u001b[1;31mPoolError\u001b[0m: Failed getting connection; pool exhausted",
      "\nDuring handling of the above exception, another exception occurred:\n",
      "\u001b[1;31mMySQLInterfaceError\u001b[0m                       Traceback (most recent call last)",
      "File \u001b[1;32mc:\\Users\\Admin\\AppData\\Local\\Programs\\Python\\Python310\\lib\\site-packages\\mysql\\connector\\connection_cext.py:236\u001b[0m, in \u001b[0;36mCMySQLConnection._open_connection\u001b[1;34m(self)\u001b[0m\n\u001b[0;32m    235\u001b[0m \u001b[39mtry\u001b[39;00m:\n\u001b[1;32m--> 236\u001b[0m     \u001b[39mself\u001b[39m\u001b[39m.\u001b[39m_cmysql\u001b[39m.\u001b[39mconnect(\u001b[39m*\u001b[39m\u001b[39m*\u001b[39mcnx_kwargs)\n\u001b[0;32m    237\u001b[0m     \u001b[39mself\u001b[39m\u001b[39m.\u001b[39m_cmysql\u001b[39m.\u001b[39mconverter_str_fallback \u001b[39m=\u001b[39m \u001b[39mself\u001b[39m\u001b[39m.\u001b[39m_converter_str_fallback\n",
      "\u001b[1;31mMySQLInterfaceError\u001b[0m: Access denied for user 'root'@'localhost' (using password: NO)",
      "\nDuring handling of the above exception, another exception occurred:\n",
      "\u001b[1;31mProgrammingError\u001b[0m                          Traceback (most recent call last)",
      "\u001b[1;32mc:\\Users\\Admin\\Desktop\\VSCode\\Git\\ConnectDatabase\\Mysql\\connection-pool.ipynb Cell 7\u001b[0m in \u001b[0;36m<cell line: 21>\u001b[1;34m()\u001b[0m\n\u001b[0;32m     <a href='vscode-notebook-cell:/c%3A/Users/Admin/Desktop/VSCode/Git/ConnectDatabase/Mysql/connection-pool.ipynb#W6sZmlsZQ%3D%3D?line=26'>27</a>\u001b[0m \u001b[39mprint\u001b[39m(\u001b[39m\"\u001b[39m\u001b[39mAdding new connection in the pool.\u001b[39m\u001b[39m\"\u001b[39m)\n\u001b[0;32m     <a href='vscode-notebook-cell:/c%3A/Users/Admin/Desktop/VSCode/Git/ConnectDatabase/Mysql/connection-pool.ipynb#W6sZmlsZQ%3D%3D?line=28'>29</a>\u001b[0m \u001b[39m# Create a connection\u001b[39;00m\n\u001b[1;32m---> <a href='vscode-notebook-cell:/c%3A/Users/Admin/Desktop/VSCode/Git/ConnectDatabase/Mysql/connection-pool.ipynb#W6sZmlsZQ%3D%3D?line=29'>30</a>\u001b[0m connection\u001b[39m=\u001b[39mconnector\u001b[39m.\u001b[39;49mconnect(user\u001b[39m=\u001b[39;49m\u001b[39m\"\u001b[39;49m\u001b[39mroot\u001b[39;49m\u001b[39m\"\u001b[39;49m,password\u001b[39m=\u001b[39;49m\u001b[39m\"\u001b[39;49m\u001b[39m\"\u001b[39;49m)\n\u001b[0;32m     <a href='vscode-notebook-cell:/c%3A/Users/Admin/Desktop/VSCode/Git/ConnectDatabase/Mysql/connection-pool.ipynb#W6sZmlsZQ%3D%3D?line=30'>31</a>\u001b[0m \u001b[39m# Add the connection into the pool\u001b[39;00m\n\u001b[0;32m     <a href='vscode-notebook-cell:/c%3A/Users/Admin/Desktop/VSCode/Git/ConnectDatabase/Mysql/connection-pool.ipynb#W6sZmlsZQ%3D%3D?line=31'>32</a>\u001b[0m pool\u001b[39m.\u001b[39madd_connection(cnx\u001b[39m=\u001b[39mconnection)\n",
      "File \u001b[1;32mc:\\Users\\Admin\\AppData\\Local\\Programs\\Python\\Python310\\lib\\site-packages\\mysql\\connector\\__init__.py:272\u001b[0m, in \u001b[0;36mconnect\u001b[1;34m(*args, **kwargs)\u001b[0m\n\u001b[0;32m    269\u001b[0m         \u001b[39mraise\u001b[39;00m \u001b[39mImportError\u001b[39;00m(ERROR_NO_CEXT)\n\u001b[0;32m    271\u001b[0m \u001b[39mif\u001b[39;00m HAVE_CEXT \u001b[39mand\u001b[39;00m \u001b[39mnot\u001b[39;00m use_pure:\n\u001b[1;32m--> 272\u001b[0m     \u001b[39mreturn\u001b[39;00m CMySQLConnection(\u001b[39m*\u001b[39margs, \u001b[39m*\u001b[39m\u001b[39m*\u001b[39mkwargs)\n\u001b[0;32m    273\u001b[0m \u001b[39mreturn\u001b[39;00m MySQLConnection(\u001b[39m*\u001b[39margs, \u001b[39m*\u001b[39m\u001b[39m*\u001b[39mkwargs)\n",
      "File \u001b[1;32mc:\\Users\\Admin\\AppData\\Local\\Programs\\Python\\Python310\\lib\\site-packages\\mysql\\connector\\connection_cext.py:85\u001b[0m, in \u001b[0;36mCMySQLConnection.__init__\u001b[1;34m(self, **kwargs)\u001b[0m\n\u001b[0;32m     82\u001b[0m \u001b[39msuper\u001b[39m(CMySQLConnection, \u001b[39mself\u001b[39m)\u001b[39m.\u001b[39m\u001b[39m__init__\u001b[39m(\u001b[39m*\u001b[39m\u001b[39m*\u001b[39mkwargs)\n\u001b[0;32m     84\u001b[0m \u001b[39mif\u001b[39;00m kwargs:\n\u001b[1;32m---> 85\u001b[0m     \u001b[39mself\u001b[39m\u001b[39m.\u001b[39mconnect(\u001b[39m*\u001b[39m\u001b[39m*\u001b[39mkwargs)\n",
      "File \u001b[1;32mc:\\Users\\Admin\\AppData\\Local\\Programs\\Python\\Python310\\lib\\site-packages\\mysql\\connector\\abstracts.py:1028\u001b[0m, in \u001b[0;36mMySQLConnectionAbstract.connect\u001b[1;34m(self, **kwargs)\u001b[0m\n\u001b[0;32m   1025\u001b[0m     \u001b[39mself\u001b[39m\u001b[39m.\u001b[39mconfig(\u001b[39m*\u001b[39m\u001b[39m*\u001b[39mkwargs)\n\u001b[0;32m   1027\u001b[0m \u001b[39mself\u001b[39m\u001b[39m.\u001b[39mdisconnect()\n\u001b[1;32m-> 1028\u001b[0m \u001b[39mself\u001b[39;49m\u001b[39m.\u001b[39;49m_open_connection()\n\u001b[0;32m   1029\u001b[0m \u001b[39m# Server does not allow to run any other statement different from ALTER\u001b[39;00m\n\u001b[0;32m   1030\u001b[0m \u001b[39m# when user's password has been expired.\u001b[39;00m\n\u001b[0;32m   1031\u001b[0m \u001b[39mif\u001b[39;00m \u001b[39mnot\u001b[39;00m \u001b[39mself\u001b[39m\u001b[39m.\u001b[39m_client_flags \u001b[39m&\u001b[39m ClientFlag\u001b[39m.\u001b[39mCAN_HANDLE_EXPIRED_PASSWORDS:\n",
      "File \u001b[1;32mc:\\Users\\Admin\\AppData\\Local\\Programs\\Python\\Python310\\lib\\site-packages\\mysql\\connector\\connection_cext.py:241\u001b[0m, in \u001b[0;36mCMySQLConnection._open_connection\u001b[1;34m(self)\u001b[0m\n\u001b[0;32m    239\u001b[0m         \u001b[39mself\u001b[39m\u001b[39m.\u001b[39mconverter\u001b[39m.\u001b[39mstr_fallback \u001b[39m=\u001b[39m \u001b[39mself\u001b[39m\u001b[39m.\u001b[39m_converter_str_fallback\n\u001b[0;32m    240\u001b[0m \u001b[39mexcept\u001b[39;00m MySQLInterfaceError \u001b[39mas\u001b[39;00m exc:\n\u001b[1;32m--> 241\u001b[0m     \u001b[39mraise\u001b[39;00m errors\u001b[39m.\u001b[39mget_mysql_exception(msg\u001b[39m=\u001b[39mexc\u001b[39m.\u001b[39mmsg, errno\u001b[39m=\u001b[39mexc\u001b[39m.\u001b[39merrno,\n\u001b[0;32m    242\u001b[0m                                      sqlstate\u001b[39m=\u001b[39mexc\u001b[39m.\u001b[39msqlstate)\n\u001b[0;32m    244\u001b[0m \u001b[39mself\u001b[39m\u001b[39m.\u001b[39m_do_handshake()\n",
      "\u001b[1;31mProgrammingError\u001b[0m: 1045 (28000): Access denied for user 'root'@'localhost' (using password: NO)"
     ]
    }
   ],
   "source": [
    "# Create a connection pool\n",
    "from mysql.connector.pooling import MySQLConnectionPool\n",
    "dbconfig = {\n",
    "    \"database\":\"little_lemon\",\n",
    "    \"user\" : \"root\",\n",
    "    \"password\" : \"123456\"\n",
    "}\n",
    "\n",
    "pool = MySQLConnectionPool(pool_name = \"ll_pool_a\",\n",
    "                           pool_size = 3, #default is 5\n",
    "                           **dbconfig)\n",
    "\n",
    "# List of the guests who want to connect to the database\n",
    "guests = [\"Anna\", \"Marcos\", \"Diana\", \"Joakim\", \"Hiroki\"]\n",
    "\n",
    "# To add connection to the pool, the connection must be of MySQLConnection instance \n",
    "# Also possible to create via connect module and need the import below\n",
    "import mysql.connector as connector\n",
    "\n",
    "# Assign connection to each user\n",
    "for guest in guests:\n",
    "    try:\n",
    "        guest_connected = pool.get_connection()\n",
    "        print(\"[{}] is connected.\\n\".format(guest))\n",
    "    except:\n",
    "        print(\"No more connections are available.\")\n",
    "        print(\"Adding new connection in the pool.\")\n",
    "        \n",
    "        # Create a connection\n",
    "        connection=connector.connect(user=\"root\",password=\"\")\n",
    "        # Add the connection into the pool\n",
    "        pool.add_connection(cnx=connection)\n",
    "        print(\"A new connection is added in the pool.\\n\")\n",
    "        \n",
    "        user_connected = pool.get_connection()\n",
    "        print(\"[{}] is connected.\\n\".format(guest))"
   ]
  }
 ],
 "metadata": {
  "kernelspec": {
   "display_name": "Python 3",
   "language": "python",
   "name": "python3"
  },
  "language_info": {
   "codemirror_mode": {
    "name": "ipython",
    "version": 3
   },
   "file_extension": ".py",
   "mimetype": "text/x-python",
   "name": "python",
   "nbconvert_exporter": "python",
   "pygments_lexer": "ipython3",
   "version": "3.10.2"
  },
  "orig_nbformat": 4
 },
 "nbformat": 4,
 "nbformat_minor": 2
}
