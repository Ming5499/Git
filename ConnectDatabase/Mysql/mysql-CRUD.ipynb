{
 "cells": [
  {
   "cell_type": "code",
   "execution_count": null,
   "metadata": {},
   "outputs": [],
   "source": [
    "import mysql.connector as connector\n",
    "connection=connector.connect(\n",
    "                             host=\"localhost\",\n",
    "                             user=\"root\",\n",
    "                             password=\"123456\",\n",
    "                            )\n",
    "cursor = connection.cursor()\n",
    "cursor.execute(\"USE little_lemon\")"
   ]
  },
  {
   "cell_type": "code",
   "execution_count": null,
   "metadata": {},
   "outputs": [],
   "source": [
    "my_sql_insert_query = \"\"\"\n",
    "INSERT INTO bookings\n",
    "(GuestFirstName, GuestLastName, TableNo) Values ('marco','john',1)\"\"\"\n",
    "\n",
    "cursor.execute(my_sql_insert_query)"
   ]
  },
  {
   "cell_type": "code",
   "execution_count": null,
   "metadata": {},
   "outputs": [],
   "source": [
    "connection.commit()"
   ]
  },
  {
   "cell_type": "code",
   "execution_count": null,
   "metadata": {},
   "outputs": [],
   "source": [
    "read_data_query = \"\"\"SELECT * FROM bookings\"\"\""
   ]
  },
  {
   "cell_type": "code",
   "execution_count": null,
   "metadata": {},
   "outputs": [],
   "source": [
    "cursor.execute(read_data_query)"
   ]
  },
  {
   "cell_type": "code",
   "execution_count": null,
   "metadata": {},
   "outputs": [],
   "source": [
    "result = cursor.fetchall()\n",
    "print(result)\n"
   ]
  }
 ],
 "metadata": {
  "language_info": {
   "name": "python"
  },
  "orig_nbformat": 4
 },
 "nbformat": 4,
 "nbformat_minor": 2
}
