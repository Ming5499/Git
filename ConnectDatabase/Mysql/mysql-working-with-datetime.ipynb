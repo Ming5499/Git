{
 "cells": [
  {
   "cell_type": "code",
   "execution_count": 1,
   "metadata": {},
   "outputs": [],
   "source": [
    "import mysql.connector as connector\n",
    "import mysql.connector as connector\n",
    "connection=connector.connect(\n",
    "                             host=\"localhost\",\n",
    "                             user=\"root\",\n",
    "                             password=\"123456\",\n",
    "                            )\n",
    "cursor = connection.cursor()\n",
    "cursor.execute(\"USE little_lemon\")\n",
    "import datetime as dt"
   ]
  },
  {
   "cell_type": "code",
   "execution_count": 4,
   "metadata": {},
   "outputs": [
    {
     "name": "stdout",
     "output_type": "stream",
     "text": [
      "[(1, 15), (1, 17), (1, 18), (2, 19), (1, 20)]\n",
      "Upcoming Bookings:\n",
      "\n",
      "Hour:  15 <<>> 1 Booking/s\n",
      "Hour:  17 <<>> 1 Booking/s\n",
      "Hour:  18 <<>> 1 Booking/s\n",
      "Hour:  19 <<>> 2 Booking/s\n",
      "Hour:  20 <<>> 1 Booking/s\n"
     ]
    }
   ],
   "source": [
    "# Read query \n",
    "#all_bookings = \"\"\"SELECT GuestFirstName, GuestLastName, \n",
    "#TableNo FROM bookings;\"\"\"\n",
    "\n",
    "\n",
    "# The SQL query is:\n",
    "sql_query = \"\"\"SELECT \n",
    "COUNT(BookingID) AS n_bookings,\n",
    "HOUR(BookingSlot) AS Hour \n",
    "FROM Bookings\n",
    "GROUP BY Hour\n",
    "ORDER BY Hour ASC;\"\"\"\n",
    "\n",
    "# Execute the query \n",
    "cursor.execute(sql_query)\n",
    "\n",
    "# Fetch all results that satisfy the query \n",
    "results = cursor.fetchall()\n",
    "\n",
    "print(results)\n",
    "# Print records in the required format using for loop\n",
    "print(\"\"\"Upcoming Bookings:\\n\"\"\")\n",
    "#print(cols)\n",
    "for result in results:\n",
    "    print(\"Hour: \",result[1],\"<<>>\", result[0], \"Booking/s\")"
   ]
  },
  {
   "cell_type": "code",
   "execution_count": 5,
   "metadata": {},
   "outputs": [
    {
     "name": "stdout",
     "output_type": "stream",
     "text": [
      "The guests and their booking slots are:\n",
      "\n",
      "[Table no:] 19 >> Vanessa McCarthy is expected to arrive at: 15 hrs and 0 mins\n",
      "[Table no:] 15 >> Marcos Romero is expected to arrive at: 17 hrs and 30 mins\n",
      "[Table no:] 5 >> Hiroki Yamane is expected to arrive at: 18 hrs and 30 mins\n",
      "[Table no:] 12 >> Anna Iversen is expected to arrive at: 19 hrs and 0 mins\n",
      "[Table no:] 12 >> Joakim Iversen is expected to arrive at: 19 hrs and 0 mins\n",
      "[Table no:] 8 >> Diana Pinto is expected to arrive at: 20 hrs and 0 mins\n"
     ]
    }
   ],
   "source": [
    "# The SQL query is: \n",
    "sql_query = \"\"\"SELECT \n",
    "TableNo, \n",
    "GuestFirstName, \n",
    "GuestLastName, \n",
    "BookingSlot \n",
    "FROM Bookings \n",
    "ORDER BY BookingSlot;\"\"\"\n",
    "\n",
    "# Execute query \n",
    "cursor.execute(sql_query)\n",
    "\n",
    "# Fetch all results that satisfy the query \n",
    "results = cursor.fetchall()\n",
    "\n",
    "# Print records in the required format\n",
    "print(\"The guests and their booking slots are:\\n\")\n",
    "for result in results: \n",
    "    time = str(result[3])\n",
    "    hour = dt.datetime.strptime(time,'%H:%M:%S').hour\n",
    "    minute = dt.datetime.strptime(time,'%H:%M:%S').minute\n",
    "    print(\"[Table no:]\",result[0],\">>\",result[1],result[2], \"is expected to arrive at:\", \n",
    "          hour,\"hrs and\", minute, \"mins\")"
   ]
  },
  {
   "cell_type": "code",
   "execution_count": 6,
   "metadata": {},
   "outputs": [
    {
     "name": "stdout",
     "output_type": "stream",
     "text": [
      "Booking time change ALERT!!\n",
      "Booking ID: 2\n",
      "Table number: 12\n",
      "Booked slot: 19:00:00\n",
      "New arrival time: 20:00:00\n"
     ]
    }
   ],
   "source": [
    "# The SQL query is: \n",
    "sql_query = \"\"\"SELECT \n",
    "BookingID, \n",
    "TableNo, \n",
    "BookingSlot, \n",
    "ADDTIME(BookingSlot,\"1:00:00\") as NewTime \n",
    "FROM Bookings\n",
    "WHERE TableNo = 12 AND BookingID = 2;\"\"\"\n",
    "\n",
    "# Execute query \n",
    "cursor.execute(sql_query)\n",
    "\n",
    "# Fetch all results that satisfy the query \n",
    "results = cursor.fetchall()\n",
    "\n",
    "# Print time change alert.\n",
    "print(\"Booking time change ALERT!!\")\n",
    "for result in results:  \n",
    "    print(\"Booking ID:\",result[0])\n",
    "    print(\"Table number:\",result[1])\n",
    "    print(\"Booked slot:\",result[2])\n",
    "    print(\"New arrival time:\",result[3])"
   ]
  },
  {
   "cell_type": "code",
   "execution_count": 7,
   "metadata": {},
   "outputs": [
    {
     "name": "stdout",
     "output_type": "stream",
     "text": [
      "The cursor is closed.\n",
      "MySQL connection is closed.\n"
     ]
    }
   ],
   "source": [
    "# Let's close the cursor and the connection\n",
    "if connection.is_connected():\n",
    "    cursor.close()\n",
    "    print(\"The cursor is closed.\")\n",
    "    connection.close()\n",
    "    print(\"MySQL connection is closed.\")\n",
    "else:\n",
    "    print(\"Connection is already closed\")"
   ]
  }
 ],
 "metadata": {
  "kernelspec": {
   "display_name": "Python 3",
   "language": "python",
   "name": "python3"
  },
  "language_info": {
   "codemirror_mode": {
    "name": "ipython",
    "version": 3
   },
   "file_extension": ".py",
   "mimetype": "text/x-python",
   "name": "python",
   "nbconvert_exporter": "python",
   "pygments_lexer": "ipython3",
   "version": "3.10.2"
  },
  "orig_nbformat": 4
 },
 "nbformat": 4,
 "nbformat_minor": 2
}
