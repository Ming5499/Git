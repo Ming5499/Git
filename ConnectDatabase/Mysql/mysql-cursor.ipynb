{
 "cells": [
  {
   "cell_type": "code",
   "execution_count": 15,
   "metadata": {},
   "outputs": [],
   "source": [
    "import mysql.connector as connector"
   ]
  },
  {
   "cell_type": "code",
   "execution_count": 16,
   "metadata": {},
   "outputs": [],
   "source": [
    "connection=connector.connect(\n",
    "                             host=\"localhost\",\n",
    "                             user=\"root\",\n",
    "                             password=\"123456\",\n",
    "                            )"
   ]
  },
  {
   "cell_type": "code",
   "execution_count": 17,
   "metadata": {},
   "outputs": [
    {
     "ename": "DatabaseError",
     "evalue": "1007 (HY000): Can't create database 'little_lemon'; database exists",
     "output_type": "error",
     "traceback": [
      "\u001b[1;31m---------------------------------------------------------------------------\u001b[0m",
      "\u001b[1;31mMySQLInterfaceError\u001b[0m                       Traceback (most recent call last)",
      "File \u001b[1;32mc:\\Users\\Admin\\AppData\\Local\\Programs\\Python\\Python310\\lib\\site-packages\\mysql\\connector\\connection_cext.py:523\u001b[0m, in \u001b[0;36mCMySQLConnection.cmd_query\u001b[1;34m(self, query, raw, buffered, raw_as_string)\u001b[0m\n\u001b[0;32m    522\u001b[0m         query \u001b[39m=\u001b[39m query\u001b[39m.\u001b[39mencode(\u001b[39m'\u001b[39m\u001b[39mutf-8\u001b[39m\u001b[39m'\u001b[39m)\n\u001b[1;32m--> 523\u001b[0m     \u001b[39mself\u001b[39;49m\u001b[39m.\u001b[39;49m_cmysql\u001b[39m.\u001b[39;49mquery(query,\n\u001b[0;32m    524\u001b[0m                        raw\u001b[39m=\u001b[39;49mraw, buffered\u001b[39m=\u001b[39;49mbuffered,\n\u001b[0;32m    525\u001b[0m                        raw_as_string\u001b[39m=\u001b[39;49mraw_as_string,\n\u001b[0;32m    526\u001b[0m                        query_attrs\u001b[39m=\u001b[39;49m\u001b[39mself\u001b[39;49m\u001b[39m.\u001b[39;49m_query_attrs)\n\u001b[0;32m    527\u001b[0m \u001b[39mexcept\u001b[39;00m MySQLInterfaceError \u001b[39mas\u001b[39;00m exc:\n",
      "\u001b[1;31mMySQLInterfaceError\u001b[0m: Can't create database 'little_lemon'; database exists",
      "\nDuring handling of the above exception, another exception occurred:\n",
      "\u001b[1;31mDatabaseError\u001b[0m                             Traceback (most recent call last)",
      "\u001b[1;32mc:\\Users\\Admin\\Desktop\\VSCode\\Git\\ConnectDatabase\\Mysql\\mysql-test.ipynb Cell 3\u001b[0m in \u001b[0;36m<cell line: 7>\u001b[1;34m()\u001b[0m\n\u001b[0;32m      <a href='vscode-notebook-cell:/c%3A/Users/Admin/Desktop/VSCode/Git/ConnectDatabase/Mysql/mysql-test.ipynb#W0sZmlsZQ%3D%3D?line=0'>1</a>\u001b[0m cursor \u001b[39m=\u001b[39m connection\u001b[39m.\u001b[39mcursor()\n\u001b[0;32m      <a href='vscode-notebook-cell:/c%3A/Users/Admin/Desktop/VSCode/Git/ConnectDatabase/Mysql/mysql-test.ipynb#W0sZmlsZQ%3D%3D?line=1'>2</a>\u001b[0m \u001b[39m# # If exist, drop the database first \u001b[39;00m\n\u001b[0;32m      <a href='vscode-notebook-cell:/c%3A/Users/Admin/Desktop/VSCode/Git/ConnectDatabase/Mysql/mysql-test.ipynb#W0sZmlsZQ%3D%3D?line=2'>3</a>\u001b[0m \u001b[39m# cursor.execute(\"drop database little_lemon\")\u001b[39;00m\n\u001b[0;32m      <a href='vscode-notebook-cell:/c%3A/Users/Admin/Desktop/VSCode/Git/ConnectDatabase/Mysql/mysql-test.ipynb#W0sZmlsZQ%3D%3D?line=3'>4</a>\u001b[0m \n\u001b[0;32m      <a href='vscode-notebook-cell:/c%3A/Users/Admin/Desktop/VSCode/Git/ConnectDatabase/Mysql/mysql-test.ipynb#W0sZmlsZQ%3D%3D?line=4'>5</a>\u001b[0m \u001b[39m# Create database and checking all that we have!\u001b[39;00m\n\u001b[1;32m----> <a href='vscode-notebook-cell:/c%3A/Users/Admin/Desktop/VSCode/Git/ConnectDatabase/Mysql/mysql-test.ipynb#W0sZmlsZQ%3D%3D?line=6'>7</a>\u001b[0m cursor\u001b[39m.\u001b[39;49mexecute(\u001b[39m\"\u001b[39;49m\u001b[39mCREATE DATABASE little_lemon\u001b[39;49m\u001b[39m\"\u001b[39;49m)\n\u001b[0;32m      <a href='vscode-notebook-cell:/c%3A/Users/Admin/Desktop/VSCode/Git/ConnectDatabase/Mysql/mysql-test.ipynb#W0sZmlsZQ%3D%3D?line=7'>8</a>\u001b[0m cursor\u001b[39m.\u001b[39mexecute(\u001b[39m\"\u001b[39m\u001b[39mSHOW DATABASES\u001b[39m\u001b[39m\"\u001b[39m)\n\u001b[0;32m      <a href='vscode-notebook-cell:/c%3A/Users/Admin/Desktop/VSCode/Git/ConnectDatabase/Mysql/mysql-test.ipynb#W0sZmlsZQ%3D%3D?line=8'>9</a>\u001b[0m \u001b[39mfor\u001b[39;00m database \u001b[39min\u001b[39;00m cursor:\n",
      "File \u001b[1;32mc:\\Users\\Admin\\AppData\\Local\\Programs\\Python\\Python310\\lib\\site-packages\\mysql\\connector\\cursor_cext.py:269\u001b[0m, in \u001b[0;36mCMySQLCursor.execute\u001b[1;34m(self, operation, params, multi)\u001b[0m\n\u001b[0;32m    265\u001b[0m             \u001b[39mraise\u001b[39;00m errors\u001b[39m.\u001b[39mProgrammingError(\n\u001b[0;32m    266\u001b[0m                 \u001b[39m\"\u001b[39m\u001b[39mNot all parameters were used in the SQL statement\u001b[39m\u001b[39m\"\u001b[39m)\n\u001b[0;32m    268\u001b[0m \u001b[39mtry\u001b[39;00m:\n\u001b[1;32m--> 269\u001b[0m     result \u001b[39m=\u001b[39m \u001b[39mself\u001b[39;49m\u001b[39m.\u001b[39;49m_cnx\u001b[39m.\u001b[39;49mcmd_query(stmt, raw\u001b[39m=\u001b[39;49m\u001b[39mself\u001b[39;49m\u001b[39m.\u001b[39;49m_raw,\n\u001b[0;32m    270\u001b[0m                                  buffered\u001b[39m=\u001b[39;49m\u001b[39mself\u001b[39;49m\u001b[39m.\u001b[39;49m_buffered,\n\u001b[0;32m    271\u001b[0m                                  raw_as_string\u001b[39m=\u001b[39;49m\u001b[39mself\u001b[39;49m\u001b[39m.\u001b[39;49m_raw_as_string)\n\u001b[0;32m    272\u001b[0m \u001b[39mexcept\u001b[39;00m MySQLInterfaceError \u001b[39mas\u001b[39;00m exc:\n\u001b[0;32m    273\u001b[0m     \u001b[39mraise\u001b[39;00m errors\u001b[39m.\u001b[39mget_mysql_exception(msg\u001b[39m=\u001b[39mexc\u001b[39m.\u001b[39mmsg, errno\u001b[39m=\u001b[39mexc\u001b[39m.\u001b[39merrno,\n\u001b[0;32m    274\u001b[0m                                      sqlstate\u001b[39m=\u001b[39mexc\u001b[39m.\u001b[39msqlstate)\n",
      "File \u001b[1;32mc:\\Users\\Admin\\AppData\\Local\\Programs\\Python\\Python310\\lib\\site-packages\\mysql\\connector\\connection_cext.py:528\u001b[0m, in \u001b[0;36mCMySQLConnection.cmd_query\u001b[1;34m(self, query, raw, buffered, raw_as_string)\u001b[0m\n\u001b[0;32m    523\u001b[0m     \u001b[39mself\u001b[39m\u001b[39m.\u001b[39m_cmysql\u001b[39m.\u001b[39mquery(query,\n\u001b[0;32m    524\u001b[0m                        raw\u001b[39m=\u001b[39mraw, buffered\u001b[39m=\u001b[39mbuffered,\n\u001b[0;32m    525\u001b[0m                        raw_as_string\u001b[39m=\u001b[39mraw_as_string,\n\u001b[0;32m    526\u001b[0m                        query_attrs\u001b[39m=\u001b[39m\u001b[39mself\u001b[39m\u001b[39m.\u001b[39m_query_attrs)\n\u001b[0;32m    527\u001b[0m \u001b[39mexcept\u001b[39;00m MySQLInterfaceError \u001b[39mas\u001b[39;00m exc:\n\u001b[1;32m--> 528\u001b[0m     \u001b[39mraise\u001b[39;00m errors\u001b[39m.\u001b[39mget_mysql_exception(exc\u001b[39m.\u001b[39merrno, msg\u001b[39m=\u001b[39mexc\u001b[39m.\u001b[39mmsg,\n\u001b[0;32m    529\u001b[0m                                      sqlstate\u001b[39m=\u001b[39mexc\u001b[39m.\u001b[39msqlstate)\n\u001b[0;32m    530\u001b[0m \u001b[39mexcept\u001b[39;00m \u001b[39mAttributeError\u001b[39;00m:\n\u001b[0;32m    531\u001b[0m     \u001b[39mif\u001b[39;00m \u001b[39mself\u001b[39m\u001b[39m.\u001b[39m_unix_socket:\n",
      "\u001b[1;31mDatabaseError\u001b[0m: 1007 (HY000): Can't create database 'little_lemon'; database exists"
     ]
    }
   ],
   "source": [
    "cursor = connection.cursor()\n",
    "# # If exist, drop the database first \n",
    "# cursor.execute(\"drop database little_lemon\")\n",
    "\n",
    "# Create database and checking all that we have!\n",
    "\n",
    "cursor.execute(\"CREATE DATABASE little_lemon\")\n",
    "cursor.execute(\"SHOW DATABASES\")\n",
    "for database in cursor:\n",
    "    print(database)"
   ]
  },
  {
   "cell_type": "code",
   "execution_count": 19,
   "metadata": {},
   "outputs": [
    {
     "data": {
      "text/plain": [
       "'little_lemon'"
      ]
     },
     "execution_count": 19,
     "metadata": {},
     "output_type": "execute_result"
    }
   ],
   "source": [
    "# Set little_lemon database for use \n",
    "cursor.execute(\"USE little_lemon\")\n",
    "\n",
    "# Confirm the database in use\n",
    "connection.database"
   ]
  },
  {
   "cell_type": "code",
   "execution_count": 21,
   "metadata": {},
   "outputs": [],
   "source": [
    "#SHOW ALL TABLE IN THE DATABASE\n",
    "cursor.execute(\"SHOW TABLES\")\n"
   ]
  },
  {
   "cell_type": "code",
   "execution_count": 22,
   "metadata": {},
   "outputs": [],
   "source": [
    "#Retrive table  in a variable 'result'\n",
    "results = cursor.fetchall()"
   ]
  },
  {
   "cell_type": "code",
   "execution_count": null,
   "metadata": {},
   "outputs": [],
   "source": [
    "#Using for loop to print the names of all the tables\n",
    "for table in results:\n",
    "    print(table)"
   ]
  },
  {
   "cell_type": "code",
   "execution_count": null,
   "metadata": {},
   "outputs": [],
   "source": [
    "#Create a cursor object with dictionary \n",
    "dic_cursor = connection.cursor(dictionary=True)\n",
    "\n",
    "#Retrive the query outcomes in a variable 'results'\n",
    "results =  dic_cursor.fetchall()\n",
    "\n",
    "#Use for loop to print the names of all the tables\n",
    "for table in results:\n",
    "    print(table)"
   ]
  }
 ],
 "metadata": {
  "kernelspec": {
   "display_name": "Python 3",
   "language": "python",
   "name": "python3"
  },
  "language_info": {
   "codemirror_mode": {
    "name": "ipython",
    "version": 3
   },
   "file_extension": ".py",
   "mimetype": "text/x-python",
   "name": "python",
   "nbconvert_exporter": "python",
   "pygments_lexer": "ipython3",
   "version": "3.10.2"
  },
  "orig_nbformat": 4
 },
 "nbformat": 4,
 "nbformat_minor": 2
}
