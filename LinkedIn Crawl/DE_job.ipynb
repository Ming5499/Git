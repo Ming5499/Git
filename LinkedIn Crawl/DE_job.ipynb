{
 "cells": [
  {
   "cell_type": "code",
   "execution_count": 1,
   "metadata": {},
   "outputs": [],
   "source": [
    "import requests\n",
    "from bs4 import BeautifulSoup\n",
    "import urllib\n",
    "from datetime import datetime\n",
    "import pandas as pd"
   ]
  },
  {
   "cell_type": "code",
   "execution_count": 2,
   "metadata": {},
   "outputs": [],
   "source": [
    "titles = [\n",
    "    \"Data Engineer\",\n",
    "    \"Database Engineer\",\n",
    "    \"Data Architect\",\n",
    "    \"ETL Developer\",\n",
    "    \"Big Data Engineer\",\n",
    "    \"Data Warehouse Engineer\",\n",
    "    \"Data Pipeline Engineer\"\n",
    "]"
   ]
  },
  {
   "cell_type": "code",
   "execution_count": null,
   "metadata": {},
   "outputs": [],
   "source": [
    "locations = [\n",
    "    'United State',\n",
    "    'San Francisco',\n",
    "    'New York',\n",
    "    'Chicago',\n",
    "    'Boston',\n",
    "    'Los Angeles',\n",
    "    'Atlanta',\n",
    "    'Dallas'\n",
    "]"
   ]
  }
 ],
 "metadata": {
  "kernelspec": {
   "display_name": "Python 3",
   "language": "python",
   "name": "python3"
  },
  "language_info": {
   "codemirror_mode": {
    "name": "ipython",
    "version": 3
   },
   "file_extension": ".py",
   "mimetype": "text/x-python",
   "name": "python",
   "nbconvert_exporter": "python",
   "pygments_lexer": "ipython3",
   "version": "3.10.2"
  }
 },
 "nbformat": 4,
 "nbformat_minor": 2
}
